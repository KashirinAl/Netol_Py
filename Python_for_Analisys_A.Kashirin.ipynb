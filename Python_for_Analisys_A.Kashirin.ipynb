{
 "cells": [
  {
   "cell_type": "code",
   "execution_count": 1,
   "id": "eee7c359",
   "metadata": {},
   "outputs": [],
   "source": [
    "import numpy as np\n",
    "import pandas as pd\n",
    "import matplotlib as mpl\n",
    "import matplotlib.pyplot as plt\n",
    "import seaborn as sn"
   ]
  },
  {
   "cell_type": "code",
   "execution_count": 2,
   "id": "e771591e",
   "metadata": {},
   "outputs": [
    {
     "data": {
      "text/html": [
       "<div>\n",
       "<style scoped>\n",
       "    .dataframe tbody tr th:only-of-type {\n",
       "        vertical-align: middle;\n",
       "    }\n",
       "\n",
       "    .dataframe tbody tr th {\n",
       "        vertical-align: top;\n",
       "    }\n",
       "\n",
       "    .dataframe thead th {\n",
       "        text-align: right;\n",
       "    }\n",
       "</style>\n",
       "<table border=\"1\" class=\"dataframe\">\n",
       "  <thead>\n",
       "    <tr style=\"text-align: right;\">\n",
       "      <th></th>\n",
       "      <th>satisfaction_level</th>\n",
       "      <th>last_evaluation</th>\n",
       "      <th>number_project</th>\n",
       "      <th>average_montly_hours</th>\n",
       "      <th>time_spend_company</th>\n",
       "      <th>Work_accident</th>\n",
       "      <th>left</th>\n",
       "      <th>promotion_last_5years</th>\n",
       "      <th>department</th>\n",
       "      <th>salary</th>\n",
       "    </tr>\n",
       "  </thead>\n",
       "  <tbody>\n",
       "    <tr>\n",
       "      <th>0</th>\n",
       "      <td>0.38</td>\n",
       "      <td>0.53</td>\n",
       "      <td>2</td>\n",
       "      <td>157</td>\n",
       "      <td>3</td>\n",
       "      <td>0</td>\n",
       "      <td>1</td>\n",
       "      <td>0</td>\n",
       "      <td>sales</td>\n",
       "      <td>low</td>\n",
       "    </tr>\n",
       "    <tr>\n",
       "      <th>1</th>\n",
       "      <td>0.80</td>\n",
       "      <td>0.86</td>\n",
       "      <td>5</td>\n",
       "      <td>262</td>\n",
       "      <td>6</td>\n",
       "      <td>0</td>\n",
       "      <td>1</td>\n",
       "      <td>0</td>\n",
       "      <td>sales</td>\n",
       "      <td>medium</td>\n",
       "    </tr>\n",
       "    <tr>\n",
       "      <th>2</th>\n",
       "      <td>0.11</td>\n",
       "      <td>0.88</td>\n",
       "      <td>7</td>\n",
       "      <td>272</td>\n",
       "      <td>4</td>\n",
       "      <td>0</td>\n",
       "      <td>1</td>\n",
       "      <td>0</td>\n",
       "      <td>sales</td>\n",
       "      <td>medium</td>\n",
       "    </tr>\n",
       "    <tr>\n",
       "      <th>3</th>\n",
       "      <td>0.72</td>\n",
       "      <td>0.87</td>\n",
       "      <td>5</td>\n",
       "      <td>223</td>\n",
       "      <td>5</td>\n",
       "      <td>0</td>\n",
       "      <td>1</td>\n",
       "      <td>0</td>\n",
       "      <td>sales</td>\n",
       "      <td>low</td>\n",
       "    </tr>\n",
       "    <tr>\n",
       "      <th>4</th>\n",
       "      <td>0.37</td>\n",
       "      <td>0.52</td>\n",
       "      <td>2</td>\n",
       "      <td>159</td>\n",
       "      <td>3</td>\n",
       "      <td>0</td>\n",
       "      <td>1</td>\n",
       "      <td>0</td>\n",
       "      <td>sales</td>\n",
       "      <td>low</td>\n",
       "    </tr>\n",
       "  </tbody>\n",
       "</table>\n",
       "</div>"
      ],
      "text/plain": [
       "   satisfaction_level  last_evaluation  number_project  average_montly_hours  \\\n",
       "0                0.38             0.53               2                   157   \n",
       "1                0.80             0.86               5                   262   \n",
       "2                0.11             0.88               7                   272   \n",
       "3                0.72             0.87               5                   223   \n",
       "4                0.37             0.52               2                   159   \n",
       "\n",
       "   time_spend_company  Work_accident  left  promotion_last_5years department  \\\n",
       "0                   3              0     1                      0      sales   \n",
       "1                   6              0     1                      0      sales   \n",
       "2                   4              0     1                      0      sales   \n",
       "3                   5              0     1                      0      sales   \n",
       "4                   3              0     1                      0      sales   \n",
       "\n",
       "   salary  \n",
       "0     low  \n",
       "1  medium  \n",
       "2  medium  \n",
       "3     low  \n",
       "4     low  "
      ]
     },
     "execution_count": 2,
     "metadata": {},
     "output_type": "execute_result"
    }
   ],
   "source": [
    "address = r'C:\\Users\\hp\\Python Learning\\\\'\n",
    "hr = pd.read_csv(address + 'HR.csv')\n",
    "hr.head(5)"
   ]
  },
  {
   "cell_type": "code",
   "execution_count": 3,
   "id": "0e867c17",
   "metadata": {},
   "outputs": [
    {
     "data": {
      "text/plain": [
       "Index(['satisfaction_level', 'last_evaluation', 'number_project',\n",
       "       'average_montly_hours', 'time_spend_company', 'Work_accident', 'left',\n",
       "       'promotion_last_5years', 'department', 'salary'],\n",
       "      dtype='object')"
      ]
     },
     "execution_count": 3,
     "metadata": {},
     "output_type": "execute_result"
    }
   ],
   "source": [
    "hr.columns"
   ]
  },
  {
   "cell_type": "code",
   "execution_count": 135,
   "id": "c575636f",
   "metadata": {},
   "outputs": [
    {
     "name": "stdout",
     "output_type": "stream",
     "text": [
      "satisfaction_level\n",
      "count    14999.000000\n",
      "mean         0.612834\n",
      "std          0.248631\n",
      "min          0.090000\n",
      "25%          0.440000\n",
      "50%          0.640000\n",
      "75%          0.820000\n",
      "max          1.000000\n",
      "Name: satisfaction_level, dtype: float64\n",
      "\n",
      "[0.09 0.1  0.11 0.12 0.13 0.14 0.15 0.16 0.17 0.18 0.19 0.2  0.21 0.22\n",
      " 0.23 0.24 0.25 0.26 0.27 0.28 0.29 0.3  0.31 0.32 0.33 0.34 0.35 0.36\n",
      " 0.37 0.38 0.39 0.4  0.41 0.42 0.43 0.44 0.45 0.46 0.47 0.48 0.49 0.5\n",
      " 0.51 0.52 0.53 0.54 0.55 0.56 0.57 0.58 0.59 0.6  0.61 0.62 0.63 0.64\n",
      " 0.65 0.66 0.67 0.68 0.69 0.7  0.71 0.72 0.73 0.74 0.75 0.76 0.77 0.78\n",
      " 0.79 0.8  0.81 0.82 0.83 0.84 0.85 0.86 0.87 0.88 0.89 0.9  0.91 0.92\n",
      " 0.93 0.94 0.95 0.96 0.97 0.98 0.99 1.  ]\n",
      "\n",
      "last_evaluation\n",
      "count    14999.000000\n",
      "mean         0.716102\n",
      "std          0.171169\n",
      "min          0.360000\n",
      "25%          0.560000\n",
      "50%          0.720000\n",
      "75%          0.870000\n",
      "max          1.000000\n",
      "Name: last_evaluation, dtype: float64\n",
      "\n",
      "[0.36 0.37 0.38 0.39 0.4  0.41 0.42 0.43 0.44 0.45 0.46 0.47 0.48 0.49\n",
      " 0.5  0.51 0.52 0.53 0.54 0.55 0.56 0.57 0.58 0.59 0.6  0.61 0.62 0.63\n",
      " 0.64 0.65 0.66 0.67 0.68 0.69 0.7  0.71 0.72 0.73 0.74 0.75 0.76 0.77\n",
      " 0.78 0.79 0.8  0.81 0.82 0.83 0.84 0.85 0.86 0.87 0.88 0.89 0.9  0.91\n",
      " 0.92 0.93 0.94 0.95 0.96 0.97 0.98 0.99 1.  ]\n",
      "\n",
      "number_project\n",
      "count    14999.000000\n",
      "mean         3.803054\n",
      "std          1.232592\n",
      "min          2.000000\n",
      "25%          3.000000\n",
      "50%          4.000000\n",
      "75%          5.000000\n",
      "max          7.000000\n",
      "Name: number_project, dtype: float64\n",
      "\n",
      "[2 3 4 5 6 7]\n",
      "\n",
      "average_montly_hours\n",
      "count    14999.000000\n",
      "mean       201.050337\n",
      "std         49.943099\n",
      "min         96.000000\n",
      "25%        156.000000\n",
      "50%        200.000000\n",
      "75%        245.000000\n",
      "max        310.000000\n",
      "Name: average_montly_hours, dtype: float64\n",
      "\n",
      "[ 96  97  98  99 100 101 102 103 104 105 106 107 108 109 110 111 112 113\n",
      " 114 115 116 117 118 119 120 121 122 123 124 125 126 127 128 129 130 131\n",
      " 132 133 134 135 136 137 138 139 140 141 142 143 144 145 146 147 148 149\n",
      " 150 151 152 153 154 155 156 157 158 159 160 161 162 163 164 165 166 167\n",
      " 168 169 170 171 172 173 174 175 176 177 178 179 180 181 182 183 184 185\n",
      " 186 187 188 189 190 191 192 193 194 195 196 197 198 199 200 201 202 203\n",
      " 204 205 206 207 208 209 210 211 212 213 214 215 216 217 218 219 220 221\n",
      " 222 223 224 225 226 227 228 229 230 231 232 233 234 235 236 237 238 239\n",
      " 240 241 242 243 244 245 246 247 248 249 250 251 252 253 254 255 256 257\n",
      " 258 259 260 261 262 263 264 265 266 267 268 269 270 271 272 273 274 275\n",
      " 276 277 278 279 280 281 282 283 284 285 286 287 288 289 290 291 292 293\n",
      " 294 295 296 297 298 299 300 301 302 303 304 305 306 307 308 309 310]\n",
      "\n",
      "time_spend_company\n",
      "count    14999.000000\n",
      "mean         3.498233\n",
      "std          1.460136\n",
      "min          2.000000\n",
      "25%          3.000000\n",
      "50%          3.000000\n",
      "75%          4.000000\n",
      "max         10.000000\n",
      "Name: time_spend_company, dtype: float64\n",
      "\n",
      "[ 2  3  4  5  6  7  8 10]\n",
      "\n",
      "Work_accident\n",
      "count    14999.000000\n",
      "mean         0.144610\n",
      "std          0.351719\n",
      "min          0.000000\n",
      "25%          0.000000\n",
      "50%          0.000000\n",
      "75%          0.000000\n",
      "max          1.000000\n",
      "Name: Work_accident, dtype: float64\n",
      "\n",
      "[0 1]\n",
      "\n",
      "left\n",
      "count    14999.000000\n",
      "mean         0.238083\n",
      "std          0.425924\n",
      "min          0.000000\n",
      "25%          0.000000\n",
      "50%          0.000000\n",
      "75%          0.000000\n",
      "max          1.000000\n",
      "Name: left, dtype: float64\n",
      "\n",
      "[0 1]\n",
      "\n",
      "promotion_last_5years\n",
      "count    14999.000000\n",
      "mean         0.021268\n",
      "std          0.144281\n",
      "min          0.000000\n",
      "25%          0.000000\n",
      "50%          0.000000\n",
      "75%          0.000000\n",
      "max          1.000000\n",
      "Name: promotion_last_5years, dtype: float64\n",
      "\n",
      "[0 1]\n",
      "\n",
      "department\n",
      "count     14999\n",
      "unique       10\n",
      "top       sales\n",
      "freq       4140\n",
      "Name: department, dtype: object\n",
      "\n",
      "['IT' 'RandD' 'accounting' 'hr' 'management' 'marketing' 'product_mng'\n",
      " 'sales' 'support' 'technical']\n",
      "\n",
      "salary\n",
      "count     14999\n",
      "unique        3\n",
      "top         low\n",
      "freq       7316\n",
      "Name: salary, dtype: object\n",
      "\n",
      "['high' 'low' 'medium']\n",
      "\n"
     ]
    }
   ],
   "source": [
    "# Набор данных не содержит пропущенных значений\n",
    "for metric in hr.columns:\n",
    "    print(metric)\n",
    "    print(hr[metric].describe())\n",
    "    print()\n",
    "    print(hr.sort_values(by=metric)[metric].unique())\n",
    "    print()"
   ]
  },
  {
   "cell_type": "code",
   "execution_count": 5,
   "id": "8dfcd2fa",
   "metadata": {},
   "outputs": [
    {
     "data": {
      "text/plain": [
       "<AxesSubplot:>"
      ]
     },
     "execution_count": 5,
     "metadata": {},
     "output_type": "execute_result"
    },
    {
     "data": {
      "image/png": "[encoded data removed]",
      "text/plain": [
       "<Figure size 432x288 with 2 Axes>"
      ]
     },
     "metadata": {
      "needs_background": "light"
     },
     "output_type": "display_data"
    }
   ],
   "source": [
    "corr_matrix = hr[[\n",
    "    'satisfaction_level', \n",
    "    'last_evaluation', \n",
    "    'number_project',\n",
    "    'average_montly_hours', \n",
    "    'time_spend_company']].corr()\n",
    "\n",
    "sn.heatmap(corr_matrix, annot = True)"
   ]
  },
  {
   "cell_type": "code",
   "execution_count": 6,
   "id": "3e91b75b",
   "metadata": {},
   "outputs": [
    {
     "data": {
      "text/plain": [
       "pandas.core.frame.DataFrame"
      ]
     },
     "execution_count": 6,
     "metadata": {},
     "output_type": "execute_result"
    }
   ],
   "source": [
    "type(corr_matrix)"
   ]
  },
  {
   "cell_type": "code",
   "execution_count": 61,
   "id": "226fb101",
   "metadata": {},
   "outputs": [
    {
     "name": "stderr",
     "output_type": "stream",
     "text": [
      "C:\\Users\\hp\\anaconda3\\lib\\site-packages\\ipykernel_launcher.py:9: UserWarning: Boolean Series key will be reindexed to match DataFrame index.\n",
      "  if __name__ == '__main__':\n"
     ]
    },
    {
     "data": {
      "text/html": [
       "<div>\n",
       "<style scoped>\n",
       "    .dataframe tbody tr th:only-of-type {\n",
       "        vertical-align: middle;\n",
       "    }\n",
       "\n",
       "    .dataframe tbody tr th {\n",
       "        vertical-align: top;\n",
       "    }\n",
       "\n",
       "    .dataframe thead th {\n",
       "        text-align: right;\n",
       "    }\n",
       "</style>\n",
       "<table border=\"1\" class=\"dataframe\">\n",
       "  <thead>\n",
       "    <tr style=\"text-align: right;\">\n",
       "      <th>level_1</th>\n",
       "      <th>average_montly_hours</th>\n",
       "      <th>last_evaluation</th>\n",
       "      <th>number_project</th>\n",
       "    </tr>\n",
       "    <tr>\n",
       "      <th>level_0</th>\n",
       "      <th></th>\n",
       "      <th></th>\n",
       "      <th></th>\n",
       "    </tr>\n",
       "  </thead>\n",
       "  <tbody>\n",
       "    <tr>\n",
       "      <th>average_montly_hours</th>\n",
       "      <td>NaN</td>\n",
       "      <td>0.339742</td>\n",
       "      <td>0.417211</td>\n",
       "    </tr>\n",
       "    <tr>\n",
       "      <th>last_evaluation</th>\n",
       "      <td>0.339742</td>\n",
       "      <td>NaN</td>\n",
       "      <td>0.349333</td>\n",
       "    </tr>\n",
       "    <tr>\n",
       "      <th>number_project</th>\n",
       "      <td>0.417211</td>\n",
       "      <td>0.349333</td>\n",
       "      <td>NaN</td>\n",
       "    </tr>\n",
       "  </tbody>\n",
       "</table>\n",
       "</div>"
      ],
      "text/plain": [
       "level_1               average_montly_hours  last_evaluation  number_project\n",
       "level_0                                                                    \n",
       "average_montly_hours                   NaN         0.339742        0.417211\n",
       "last_evaluation                   0.339742              NaN        0.349333\n",
       "number_project                    0.417211         0.349333             NaN"
      ]
     },
     "execution_count": 61,
     "metadata": {},
     "output_type": "execute_result"
    }
   ],
   "source": [
    "corr_matrix_top = corr_matrix.stack().to_frame().reset_index().sort_values(by=0, ascending=False)\n",
    "corr_matrix_top['corr_power'] = corr_matrix_top[0].apply(lambda x: abs(x))\n",
    "corr_matrix_top['corr_direction'] = corr_matrix_top[0].apply(lambda x: x//abs(x))\n",
    "corr_matrix_top['correlation'] = corr_matrix_top.apply(lambda x: x['corr_power']*x['corr_direction'], axis=1)\n",
    "\n",
    "# Примем, что 0.3 - это минимальный уровень для признания корреляции\n",
    "corr_matrix_top_filtered = (corr_matrix_top\n",
    "                            [corr_matrix_top[0] != 1. ]\n",
    "                            [corr_matrix_top['corr_power'] > 0.3]\n",
    "                            [['level_0','level_1','correlation']]\n",
    "                           )\n",
    "\n",
    "# Самые скоррелированные переменные\n",
    "corr_matrix_top_filtered.pivot(index='level_0', \n",
    "                               columns='level_1', \n",
    "                               values='correlation')"
   ]
  },
  {
   "cell_type": "code",
   "execution_count": 67,
   "id": "cdfe9230",
   "metadata": {},
   "outputs": [
    {
     "data": {
      "text/html": [
       "<div>\n",
       "<style scoped>\n",
       "    .dataframe tbody tr th:only-of-type {\n",
       "        vertical-align: middle;\n",
       "    }\n",
       "\n",
       "    .dataframe tbody tr th {\n",
       "        vertical-align: top;\n",
       "    }\n",
       "\n",
       "    .dataframe thead th {\n",
       "        text-align: right;\n",
       "    }\n",
       "</style>\n",
       "<table border=\"1\" class=\"dataframe\">\n",
       "  <thead>\n",
       "    <tr style=\"text-align: right;\">\n",
       "      <th>level_1</th>\n",
       "      <th>average_montly_hours</th>\n",
       "      <th>last_evaluation</th>\n",
       "      <th>satisfaction_level</th>\n",
       "      <th>time_spend_company</th>\n",
       "    </tr>\n",
       "    <tr>\n",
       "      <th>level_0</th>\n",
       "      <th></th>\n",
       "      <th></th>\n",
       "      <th></th>\n",
       "      <th></th>\n",
       "    </tr>\n",
       "  </thead>\n",
       "  <tbody>\n",
       "    <tr>\n",
       "      <th>average_montly_hours</th>\n",
       "      <td>NaN</td>\n",
       "      <td>NaN</td>\n",
       "      <td>-0.020048</td>\n",
       "      <td>NaN</td>\n",
       "    </tr>\n",
       "    <tr>\n",
       "      <th>last_evaluation</th>\n",
       "      <td>NaN</td>\n",
       "      <td>NaN</td>\n",
       "      <td>0.105021</td>\n",
       "      <td>NaN</td>\n",
       "    </tr>\n",
       "    <tr>\n",
       "      <th>satisfaction_level</th>\n",
       "      <td>-0.020048</td>\n",
       "      <td>0.105021</td>\n",
       "      <td>NaN</td>\n",
       "      <td>-0.100866</td>\n",
       "    </tr>\n",
       "    <tr>\n",
       "      <th>time_spend_company</th>\n",
       "      <td>NaN</td>\n",
       "      <td>NaN</td>\n",
       "      <td>-0.100866</td>\n",
       "      <td>NaN</td>\n",
       "    </tr>\n",
       "  </tbody>\n",
       "</table>\n",
       "</div>"
      ],
      "text/plain": [
       "level_1               average_montly_hours  last_evaluation  \\\n",
       "level_0                                                       \n",
       "average_montly_hours                   NaN              NaN   \n",
       "last_evaluation                        NaN              NaN   \n",
       "satisfaction_level               -0.020048         0.105021   \n",
       "time_spend_company                     NaN              NaN   \n",
       "\n",
       "level_1               satisfaction_level  time_spend_company  \n",
       "level_0                                                       \n",
       "average_montly_hours           -0.020048                 NaN  \n",
       "last_evaluation                 0.105021                 NaN  \n",
       "satisfaction_level                   NaN           -0.100866  \n",
       "time_spend_company             -0.100866                 NaN  "
      ]
     },
     "execution_count": 67,
     "metadata": {},
     "output_type": "execute_result"
    }
   ],
   "source": [
    "# Наименее скоррелированные переменные\n",
    "(corr_matrix_top\n",
    " .sort_values(by='corr_power')\n",
    " .head(6)[['level_0','level_1','correlation']]\n",
    " .pivot(index='level_0',\n",
    "        columns='level_1',\n",
    "        values='correlation')\n",
    ")"
   ]
  },
  {
   "cell_type": "code",
   "execution_count": 136,
   "id": "63dc2c6c",
   "metadata": {},
   "outputs": [
    {
     "data": {
      "text/html": [
       "<div>\n",
       "<style scoped>\n",
       "    .dataframe tbody tr th:only-of-type {\n",
       "        vertical-align: middle;\n",
       "    }\n",
       "\n",
       "    .dataframe tbody tr th {\n",
       "        vertical-align: top;\n",
       "    }\n",
       "\n",
       "    .dataframe thead th {\n",
       "        text-align: right;\n",
       "    }\n",
       "</style>\n",
       "<table border=\"1\" class=\"dataframe\">\n",
       "  <thead>\n",
       "    <tr style=\"text-align: right;\">\n",
       "      <th></th>\n",
       "      <th>департамент</th>\n",
       "      <th>сотрудников</th>\n",
       "    </tr>\n",
       "  </thead>\n",
       "  <tbody>\n",
       "    <tr>\n",
       "      <th>0</th>\n",
       "      <td>sales</td>\n",
       "      <td>3126.0</td>\n",
       "    </tr>\n",
       "    <tr>\n",
       "      <th>1</th>\n",
       "      <td>technical</td>\n",
       "      <td>2023.0</td>\n",
       "    </tr>\n",
       "    <tr>\n",
       "      <th>2</th>\n",
       "      <td>support</td>\n",
       "      <td>1674.0</td>\n",
       "    </tr>\n",
       "    <tr>\n",
       "      <th>3</th>\n",
       "      <td>IT</td>\n",
       "      <td>954.0</td>\n",
       "    </tr>\n",
       "    <tr>\n",
       "      <th>4</th>\n",
       "      <td>product_mng</td>\n",
       "      <td>704.0</td>\n",
       "    </tr>\n",
       "    <tr>\n",
       "      <th>5</th>\n",
       "      <td>RandD</td>\n",
       "      <td>666.0</td>\n",
       "    </tr>\n",
       "    <tr>\n",
       "      <th>6</th>\n",
       "      <td>marketing</td>\n",
       "      <td>655.0</td>\n",
       "    </tr>\n",
       "    <tr>\n",
       "      <th>7</th>\n",
       "      <td>accounting</td>\n",
       "      <td>563.0</td>\n",
       "    </tr>\n",
       "    <tr>\n",
       "      <th>8</th>\n",
       "      <td>management</td>\n",
       "      <td>539.0</td>\n",
       "    </tr>\n",
       "    <tr>\n",
       "      <th>9</th>\n",
       "      <td>hr</td>\n",
       "      <td>524.0</td>\n",
       "    </tr>\n",
       "  </tbody>\n",
       "</table>\n",
       "</div>"
      ],
      "text/plain": [
       "   департамент  сотрудников\n",
       "0        sales       3126.0\n",
       "1    technical       2023.0\n",
       "2      support       1674.0\n",
       "3           IT        954.0\n",
       "4  product_mng        704.0\n",
       "5        RandD        666.0\n",
       "6    marketing        655.0\n",
       "7   accounting        563.0\n",
       "8   management        539.0\n",
       "9           hr        524.0"
      ]
     },
     "execution_count": 136,
     "metadata": {},
     "output_type": "execute_result"
    },
    {
     "data": {
      "image/png": "[encoded data removed]",
      "text/plain": [
       "<Figure size 432x288 with 1 Axes>"
      ]
     },
     "metadata": {
      "needs_background": "light"
     },
     "output_type": "display_data"
    }
   ],
   "source": [
    "# Количество сотрудников в каждом департаменте\n",
    "staff = (hr['department']\n",
    "         [ hr['left'] == 0 ] # Без уточнений - уволившиеся сотрудники не считаются\n",
    "         .reset_index()\n",
    "         .groupby(['department'])\n",
    "         .describe()\n",
    "         .sort_values(by=('index', 'count'), ascending=False)\n",
    "         .reset_index()\n",
    "         [[('department',      ''),\n",
    "           (     'index', 'count')]]\n",
    "        )\n",
    "\n",
    "staff.columns=['департамент','сотрудников']\n",
    "\n",
    "staff.set_index('департамент').plot.barh()\n",
    "\n",
    "staff"
   ]
  },
  {
   "cell_type": "code",
   "execution_count": 127,
   "id": "892b0119",
   "metadata": {},
   "outputs": [
    {
     "name": "stdout",
     "output_type": "stream",
     "text": [
      "Распределение персонала всех департаментов по зарплате:\n",
      "  Уровень Сотрудников  Доля\n",
      "0    high        1155  0.10\n",
      "1     low        5144  0.45\n",
      "2  medium        5129  0.45\n",
      "====================================================================================================\n"
     ]
    }
   ],
   "source": [
    "def salary_rate(data_set, all_departments=True, depart=None):\n",
    "    if all_departments:\n",
    "        department = f'всех департаментов'\n",
    "        salary = data_set\n",
    "    else:\n",
    "        department = f'департамента {depart}'\n",
    "        salary = data_set[data_set['department'] == depart]\n",
    "        \n",
    "    salary = (salary\n",
    "              [salary['left'] == 0]\n",
    "              ['salary']\n",
    "              .reset_index()\n",
    "              .groupby('salary')\n",
    "              .count()\n",
    "              .reset_index())\n",
    "\n",
    "    \n",
    "    total_count = salary['index'].sum()\n",
    "    \n",
    "    salary['staff_rate'] = salary['index'].apply(lambda x: round(x/total_count,2))\n",
    "    \n",
    "    salary.columns = [['Уровень','Сотрудников','Доля']]\n",
    "    \n",
    "    print(f'Распределение персонала {department} по зарплате:')\n",
    "    print(salary)\n",
    "    print('='*100)\n",
    "    \n",
    "salary_rate(hr)"
   ]
  },
  {
   "cell_type": "code",
   "execution_count": 128,
   "id": "7a1e488e",
   "metadata": {},
   "outputs": [
    {
     "name": "stdout",
     "output_type": "stream",
     "text": [
      "Распределение персонала департамента sales по зарплате:\n",
      "  Уровень Сотрудников  Доля\n",
      "0    high         255  0.08\n",
      "1     low        1402  0.45\n",
      "2  medium        1469  0.47\n",
      "====================================================================================================\n",
      "Распределение персонала департамента accounting по зарплате:\n",
      "  Уровень Сотрудников  Доля\n",
      "0    high          69  0.12\n",
      "1     low         259  0.46\n",
      "2  medium         235  0.42\n",
      "====================================================================================================\n",
      "Распределение персонала департамента hr по зарплате:\n",
      "  Уровень Сотрудников  Доля\n",
      "0    high          39  0.07\n",
      "1     low         243  0.46\n",
      "2  medium         242  0.46\n",
      "====================================================================================================\n",
      "Распределение персонала департамента technical по зарплате:\n",
      "  Уровень Сотрудников  Доля\n",
      "0    high         176  0.09\n",
      "1     low         994  0.49\n",
      "2  medium         853  0.42\n",
      "====================================================================================================\n",
      "Распределение персонала департамента support по зарплате:\n",
      "  Уровень Сотрудников  Доля\n",
      "0    high         133  0.08\n",
      "1     low         757  0.45\n",
      "2  medium         784  0.47\n",
      "====================================================================================================\n",
      "Распределение персонала департамента management по зарплате:\n",
      "  Уровень Сотрудников  Доля\n",
      "0    high         224  0.42\n",
      "1     low         121  0.22\n",
      "2  medium         194  0.36\n",
      "====================================================================================================\n",
      "Распределение персонала департамента IT по зарплате:\n",
      "  Уровень Сотрудников  Доля\n",
      "0    high          79  0.08\n",
      "1     low         437  0.46\n",
      "2  medium         438  0.46\n",
      "====================================================================================================\n",
      "Распределение персонала департамента product_mng по зарплате:\n",
      "  Уровень Сотрудников  Доля\n",
      "0    high          62  0.09\n",
      "1     low         346  0.49\n",
      "2  medium         296  0.42\n",
      "====================================================================================================\n",
      "Распределение персонала департамента marketing по зарплате:\n",
      "  Уровень Сотрудников  Доля\n",
      "0    high          71  0.11\n",
      "1     low         276  0.42\n",
      "2  medium         308  0.47\n",
      "====================================================================================================\n",
      "Распределение персонала департамента RandD по зарплате:\n",
      "  Уровень Сотрудников  Доля\n",
      "0    high          47  0.07\n",
      "1     low         309  0.46\n",
      "2  medium         310  0.47\n",
      "====================================================================================================\n"
     ]
    }
   ],
   "source": [
    "for department in hr['department'].unique():\n",
    "    salary_rate(hr, all_departments=False, depart=department)"
   ]
  },
  {
   "cell_type": "code",
   "execution_count": 134,
   "id": "2c810954",
   "metadata": {},
   "outputs": [
    {
     "data": {
      "text/html": [
       "<div>\n",
       "<style scoped>\n",
       "    .dataframe tbody tr th:only-of-type {\n",
       "        vertical-align: middle;\n",
       "    }\n",
       "\n",
       "    .dataframe tbody tr th {\n",
       "        vertical-align: top;\n",
       "    }\n",
       "\n",
       "    .dataframe thead tr th {\n",
       "        text-align: left;\n",
       "    }\n",
       "\n",
       "    .dataframe thead tr:last-of-type th {\n",
       "        text-align: right;\n",
       "    }\n",
       "</style>\n",
       "<table border=\"1\" class=\"dataframe\">\n",
       "  <thead>\n",
       "    <tr>\n",
       "      <th></th>\n",
       "      <th></th>\n",
       "      <th colspan=\"8\" halign=\"left\">average_montly_hours</th>\n",
       "    </tr>\n",
       "    <tr>\n",
       "      <th></th>\n",
       "      <th></th>\n",
       "      <th>count</th>\n",
       "      <th>mean</th>\n",
       "      <th>std</th>\n",
       "      <th>min</th>\n",
       "      <th>25%</th>\n",
       "      <th>50%</th>\n",
       "      <th>75%</th>\n",
       "      <th>max</th>\n",
       "    </tr>\n",
       "    <tr>\n",
       "      <th>left</th>\n",
       "      <th>salary</th>\n",
       "      <th></th>\n",
       "      <th></th>\n",
       "      <th></th>\n",
       "      <th></th>\n",
       "      <th></th>\n",
       "      <th></th>\n",
       "      <th></th>\n",
       "      <th></th>\n",
       "    </tr>\n",
       "  </thead>\n",
       "  <tbody>\n",
       "    <tr>\n",
       "      <th rowspan=\"3\" valign=\"top\">0</th>\n",
       "      <th>high</th>\n",
       "      <td>1155.0</td>\n",
       "      <td>200.348052</td>\n",
       "      <td>46.565231</td>\n",
       "      <td>96.0</td>\n",
       "      <td>163.0</td>\n",
       "      <td>201.0</td>\n",
       "      <td>239.50</td>\n",
       "      <td>287.0</td>\n",
       "    </tr>\n",
       "    <tr>\n",
       "      <th>low</th>\n",
       "      <td>5144.0</td>\n",
       "      <td>198.617418</td>\n",
       "      <td>45.488365</td>\n",
       "      <td>96.0</td>\n",
       "      <td>162.0</td>\n",
       "      <td>197.0</td>\n",
       "      <td>238.00</td>\n",
       "      <td>287.0</td>\n",
       "    </tr>\n",
       "    <tr>\n",
       "      <th>medium</th>\n",
       "      <td>5129.0</td>\n",
       "      <td>199.214272</td>\n",
       "      <td>45.679143</td>\n",
       "      <td>96.0</td>\n",
       "      <td>161.0</td>\n",
       "      <td>199.0</td>\n",
       "      <td>239.00</td>\n",
       "      <td>287.0</td>\n",
       "    </tr>\n",
       "    <tr>\n",
       "      <th rowspan=\"3\" valign=\"top\">1</th>\n",
       "      <th>high</th>\n",
       "      <td>82.0</td>\n",
       "      <td>193.097561</td>\n",
       "      <td>61.586356</td>\n",
       "      <td>128.0</td>\n",
       "      <td>146.5</td>\n",
       "      <td>157.0</td>\n",
       "      <td>255.75</td>\n",
       "      <td>307.0</td>\n",
       "    </tr>\n",
       "    <tr>\n",
       "      <th>low</th>\n",
       "      <td>2172.0</td>\n",
       "      <td>206.631215</td>\n",
       "      <td>61.312993</td>\n",
       "      <td>126.0</td>\n",
       "      <td>146.0</td>\n",
       "      <td>222.0</td>\n",
       "      <td>261.00</td>\n",
       "      <td>310.0</td>\n",
       "    </tr>\n",
       "    <tr>\n",
       "      <th>medium</th>\n",
       "      <td>1317.0</td>\n",
       "      <td>209.610478</td>\n",
       "      <td>60.890911</td>\n",
       "      <td>126.0</td>\n",
       "      <td>146.0</td>\n",
       "      <td>228.0</td>\n",
       "      <td>263.00</td>\n",
       "      <td>310.0</td>\n",
       "    </tr>\n",
       "  </tbody>\n",
       "</table>\n",
       "</div>"
      ],
      "text/plain": [
       "            average_montly_hours                                              \\\n",
       "                           count        mean        std    min    25%    50%   \n",
       "left salary                                                                    \n",
       "0    high                 1155.0  200.348052  46.565231   96.0  163.0  201.0   \n",
       "     low                  5144.0  198.617418  45.488365   96.0  162.0  197.0   \n",
       "     medium               5129.0  199.214272  45.679143   96.0  161.0  199.0   \n",
       "1    high                   82.0  193.097561  61.586356  128.0  146.5  157.0   \n",
       "     low                  2172.0  206.631215  61.312993  126.0  146.0  222.0   \n",
       "     medium               1317.0  209.610478  60.890911  126.0  146.0  228.0   \n",
       "\n",
       "                            \n",
       "                75%    max  \n",
       "left salary                 \n",
       "0    high    239.50  287.0  \n",
       "     low     238.00  287.0  \n",
       "     medium  239.00  287.0  \n",
       "1    high    255.75  307.0  \n",
       "     low     261.00  310.0  \n",
       "     medium  263.00  310.0  "
      ]
     },
     "execution_count": 134,
     "metadata": {},
     "output_type": "execute_result"
    }
   ],
   "source": [
    "hr[['left','salary','average_montly_hours']].groupby(['left','salary']).describe()\n",
    "\n",
    "print('''Разведочный анализ данных показывает, \n",
    "что для действующих и ушедших сотрудников наблюдаются разныее тендении''')"
   ]
  },
  {
   "cell_type": "code",
   "execution_count": 145,
   "id": "032f7e8e",
   "metadata": {},
   "outputs": [
    {
     "data": {
      "text/plain": [
       "array(['low', 'medium', 'high'], dtype=object)"
      ]
     },
     "execution_count": 145,
     "metadata": {},
     "output_type": "execute_result"
    }
   ],
   "source": [
    "hr.salary.unique()"
   ]
  },
  {
   "cell_type": "code",
   "execution_count": 155,
   "id": "88de5986",
   "metadata": {},
   "outputs": [
    {
     "data": {
      "text/html": [
       "<div>\n",
       "<style scoped>\n",
       "    .dataframe tbody tr th:only-of-type {\n",
       "        vertical-align: middle;\n",
       "    }\n",
       "\n",
       "    .dataframe tbody tr th {\n",
       "        vertical-align: top;\n",
       "    }\n",
       "\n",
       "    .dataframe thead th {\n",
       "        text-align: right;\n",
       "    }\n",
       "</style>\n",
       "<table border=\"1\" class=\"dataframe\">\n",
       "  <thead>\n",
       "    <tr style=\"text-align: right;\">\n",
       "      <th></th>\n",
       "      <th>salary</th>\n",
       "      <th>average_montly_hours</th>\n",
       "    </tr>\n",
       "  </thead>\n",
       "  <tbody>\n",
       "    <tr>\n",
       "      <th>0</th>\n",
       "      <td>low</td>\n",
       "      <td>157</td>\n",
       "    </tr>\n",
       "    <tr>\n",
       "      <th>1</th>\n",
       "      <td>medium</td>\n",
       "      <td>262</td>\n",
       "    </tr>\n",
       "    <tr>\n",
       "      <th>2</th>\n",
       "      <td>medium</td>\n",
       "      <td>272</td>\n",
       "    </tr>\n",
       "    <tr>\n",
       "      <th>3</th>\n",
       "      <td>low</td>\n",
       "      <td>223</td>\n",
       "    </tr>\n",
       "    <tr>\n",
       "      <th>4</th>\n",
       "      <td>low</td>\n",
       "      <td>159</td>\n",
       "    </tr>\n",
       "    <tr>\n",
       "      <th>...</th>\n",
       "      <td>...</td>\n",
       "      <td>...</td>\n",
       "    </tr>\n",
       "    <tr>\n",
       "      <th>14994</th>\n",
       "      <td>low</td>\n",
       "      <td>151</td>\n",
       "    </tr>\n",
       "    <tr>\n",
       "      <th>14995</th>\n",
       "      <td>low</td>\n",
       "      <td>160</td>\n",
       "    </tr>\n",
       "    <tr>\n",
       "      <th>14996</th>\n",
       "      <td>low</td>\n",
       "      <td>143</td>\n",
       "    </tr>\n",
       "    <tr>\n",
       "      <th>14997</th>\n",
       "      <td>low</td>\n",
       "      <td>280</td>\n",
       "    </tr>\n",
       "    <tr>\n",
       "      <th>14998</th>\n",
       "      <td>low</td>\n",
       "      <td>158</td>\n",
       "    </tr>\n",
       "  </tbody>\n",
       "</table>\n",
       "<p>14999 rows × 2 columns</p>\n",
       "</div>"
      ],
      "text/plain": [
       "       salary  average_montly_hours\n",
       "0         low                   157\n",
       "1      medium                   262\n",
       "2      medium                   272\n",
       "3         low                   223\n",
       "4         low                   159\n",
       "...       ...                   ...\n",
       "14994     low                   151\n",
       "14995     low                   160\n",
       "14996     low                   143\n",
       "14997     low                   280\n",
       "14998     low                   158\n",
       "\n",
       "[14999 rows x 2 columns]"
      ]
     },
     "execution_count": 155,
     "metadata": {},
     "output_type": "execute_result"
    }
   ],
   "source": [
    "hr[['salary','average_montly_hours']]"
   ]
  },
  {
   "cell_type": "code",
   "execution_count": 159,
   "id": "09230672",
   "metadata": {},
   "outputs": [
    {
     "data": {
      "text/plain": [
       "<AxesSubplot:xlabel='average_montly_hours', ylabel='salary'>"
      ]
     },
     "execution_count": 159,
     "metadata": {},
     "output_type": "execute_result"
    },
    {
     "data": {
      "image/png": "[encoded data removed]",
      "text/plain": [
       "<Figure size 432x288 with 1 Axes>"
      ]
     },
     "metadata": {
      "needs_background": "light"
     },
     "output_type": "display_data"
    }
   ],
   "source": [
    "# Наблюдается небольшая разница в средних.\n",
    "sn.boxplot(x=\"average_montly_hours\", \n",
    "           y=\"salary\", \n",
    "           data=hr[['salary','average_montly_hours']][hr['left'] == 0]\n",
    "          )"
   ]
  },
  {
   "cell_type": "code",
   "execution_count": 167,
   "id": "65f3dbc7",
   "metadata": {},
   "outputs": [
    {
     "name": "stdout",
     "output_type": "stream",
     "text": [
      "\n",
      "Т-статитика: 116.33552% \n",
      "P_значение: 24.47295%\n",
      "P_значение меньше 0.05: False\n",
      "\n"
     ]
    },
    {
     "name": "stderr",
     "output_type": "stream",
     "text": [
      "C:\\Users\\hp\\anaconda3\\lib\\site-packages\\ipykernel_launcher.py:8: UserWarning: Boolean Series key will be reindexed to match DataFrame index.\n",
      "  \n",
      "C:\\Users\\hp\\anaconda3\\lib\\site-packages\\ipykernel_launcher.py:9: UserWarning: Boolean Series key will be reindexed to match DataFrame index.\n",
      "  if __name__ == '__main__':\n"
     ]
    }
   ],
   "source": [
    "# Нельзя отвергать нулевую гипотезу, \n",
    "# что в сотрудники с высоким окладом проводят \n",
    "# столько же времени, что и с низким\n",
    "\n",
    "from scipy import stats\n",
    "rng = np.random.default_rng()\n",
    "\n",
    "rvs1 = hr[['average_montly_hours']][hr['left'] == 0][hr['salary'] == 'high']\n",
    "rvs2 = hr[['average_montly_hours']][hr['left'] == 0][hr['salary'] == 'low']\n",
    "t_statistic, p_value = stats.ttest_ind(rvs1, rvs2)\n",
    "\n",
    "print(f'''\n",
    "Т-статитика: {t_statistic[0]:.5%} \n",
    "P_значение: {p_value[0]:.5%}\n",
    "P_значение меньше 0.05: {p_value[0] < 0.05}\n",
    "''')"
   ]
  },
  {
   "cell_type": "code",
   "execution_count": 183,
   "id": "34fc16c6",
   "metadata": {},
   "outputs": [
    {
     "data": {
      "text/html": [
       "<div>\n",
       "<style scoped>\n",
       "    .dataframe tbody tr th:only-of-type {\n",
       "        vertical-align: middle;\n",
       "    }\n",
       "\n",
       "    .dataframe tbody tr th {\n",
       "        vertical-align: top;\n",
       "    }\n",
       "\n",
       "    .dataframe thead th {\n",
       "        text-align: right;\n",
       "    }\n",
       "</style>\n",
       "<table border=\"1\" class=\"dataframe\">\n",
       "  <thead>\n",
       "    <tr style=\"text-align: right;\">\n",
       "      <th></th>\n",
       "      <th>left</th>\n",
       "      <th>promotion_last_5years</th>\n",
       "      <th>satisfaction_level</th>\n",
       "      <th>number_project</th>\n",
       "    </tr>\n",
       "  </thead>\n",
       "  <tbody>\n",
       "    <tr>\n",
       "      <th>0</th>\n",
       "      <td>1</td>\n",
       "      <td>0</td>\n",
       "      <td>0.38</td>\n",
       "      <td>2</td>\n",
       "    </tr>\n",
       "    <tr>\n",
       "      <th>1</th>\n",
       "      <td>1</td>\n",
       "      <td>0</td>\n",
       "      <td>0.80</td>\n",
       "      <td>5</td>\n",
       "    </tr>\n",
       "    <tr>\n",
       "      <th>2</th>\n",
       "      <td>1</td>\n",
       "      <td>0</td>\n",
       "      <td>0.11</td>\n",
       "      <td>7</td>\n",
       "    </tr>\n",
       "  </tbody>\n",
       "</table>\n",
       "</div>"
      ],
      "text/plain": [
       "   left  promotion_last_5years  satisfaction_level  number_project\n",
       "0     1                      0                0.38               2\n",
       "1     1                      0                0.80               5\n",
       "2     1                      0                0.11               7"
      ]
     },
     "execution_count": 183,
     "metadata": {},
     "output_type": "execute_result"
    }
   ],
   "source": [
    "hr_staff = hr[['left','promotion_last_5years','satisfaction_level','number_project']]\n",
    "\n",
    "hr_staff.head(3)"
   ]
  },
  {
   "cell_type": "code",
   "execution_count": 201,
   "id": "270880d4",
   "metadata": {},
   "outputs": [
    {
     "data": {
      "text/html": [
       "<div>\n",
       "<style scoped>\n",
       "    .dataframe tbody tr th:only-of-type {\n",
       "        vertical-align: middle;\n",
       "    }\n",
       "\n",
       "    .dataframe tbody tr th {\n",
       "        vertical-align: top;\n",
       "    }\n",
       "\n",
       "    .dataframe thead th {\n",
       "        text-align: right;\n",
       "    }\n",
       "</style>\n",
       "<table border=\"1\" class=\"dataframe\">\n",
       "  <thead>\n",
       "    <tr style=\"text-align: right;\">\n",
       "      <th></th>\n",
       "      <th>доля сотрудников с повышением за 5 лет</th>\n",
       "      <th>средняя степень удовлетворенности</th>\n",
       "      <th>среднее количество проектов</th>\n",
       "    </tr>\n",
       "    <tr>\n",
       "      <th>left</th>\n",
       "      <th></th>\n",
       "      <th></th>\n",
       "      <th></th>\n",
       "    </tr>\n",
       "  </thead>\n",
       "  <tbody>\n",
       "    <tr>\n",
       "      <th>0</th>\n",
       "      <td>0.03</td>\n",
       "      <td>0.67</td>\n",
       "      <td>3.79</td>\n",
       "    </tr>\n",
       "    <tr>\n",
       "      <th>1</th>\n",
       "      <td>0.01</td>\n",
       "      <td>0.44</td>\n",
       "      <td>3.86</td>\n",
       "    </tr>\n",
       "  </tbody>\n",
       "</table>\n",
       "</div>"
      ],
      "text/plain": [
       "      доля сотрудников с повышением за 5 лет  \\\n",
       "left                                           \n",
       "0                                       0.03   \n",
       "1                                       0.01   \n",
       "\n",
       "      средняя степень удовлетворенности  среднее количество проектов  \n",
       "left                                                                  \n",
       "0                                  0.67                         3.79  \n",
       "1                                  0.44                         3.86  "
      ]
     },
     "execution_count": 201,
     "metadata": {},
     "output_type": "execute_result"
    }
   ],
   "source": [
    "def summary(x):\n",
    "    result = {\n",
    "        'доля сотрудников с повышением за 5 лет': x.reset_index()['promotion_last_5years'].sum() / x['promotion_last_5years'].count(),        \n",
    "        'средняя степень удовлетворенности': x['satisfaction_level'].mean(),\n",
    "        'среднее количество проектов': x['number_project'].mean(),\n",
    "    }\n",
    "    return pd.Series(result).round(2)\n",
    "\n",
    "hr_staff.groupby(['left']).apply(summary)"
   ]
  },
  {
   "cell_type": "code",
   "execution_count": null,
   "id": "1bbae169",
   "metadata": {},
   "outputs": [],
   "source": [
    "Разделить на тестовую и обучающую\n",
    "LDA - уволился ли сотрудник (кроме департамента и зарплаты)\n",
    "оценить качество модели"
   ]
  },
  {
   "cell_type": "code",
   "execution_count": 203,
   "id": "1bc4c42e",
   "metadata": {},
   "outputs": [
    {
     "data": {
      "text/plain": [
       "Index(['satisfaction_level', 'last_evaluation', 'number_project',\n",
       "       'average_montly_hours', 'time_spend_company', 'Work_accident', 'left',\n",
       "       'promotion_last_5years', 'department', 'salary'],\n",
       "      dtype='object')"
      ]
     },
     "execution_count": 203,
     "metadata": {},
     "output_type": "execute_result"
    }
   ],
   "source": [
    "hr.columns"
   ]
  },
  {
   "cell_type": "code",
   "execution_count": 202,
   "id": "294a922a",
   "metadata": {},
   "outputs": [
    {
     "data": {
      "text/html": [
       "<div>\n",
       "<style scoped>\n",
       "    .dataframe tbody tr th:only-of-type {\n",
       "        vertical-align: middle;\n",
       "    }\n",
       "\n",
       "    .dataframe tbody tr th {\n",
       "        vertical-align: top;\n",
       "    }\n",
       "\n",
       "    .dataframe thead th {\n",
       "        text-align: right;\n",
       "    }\n",
       "</style>\n",
       "<table border=\"1\" class=\"dataframe\">\n",
       "  <thead>\n",
       "    <tr style=\"text-align: right;\">\n",
       "      <th></th>\n",
       "      <th>satisfaction_level</th>\n",
       "      <th>last_evaluation</th>\n",
       "      <th>number_project</th>\n",
       "      <th>average_montly_hours</th>\n",
       "      <th>time_spend_company</th>\n",
       "      <th>Work_accident</th>\n",
       "      <th>left</th>\n",
       "      <th>promotion_last_5years</th>\n",
       "      <th>department</th>\n",
       "      <th>salary</th>\n",
       "    </tr>\n",
       "  </thead>\n",
       "  <tbody>\n",
       "    <tr>\n",
       "      <th>0</th>\n",
       "      <td>0.38</td>\n",
       "      <td>0.53</td>\n",
       "      <td>2</td>\n",
       "      <td>157</td>\n",
       "      <td>3</td>\n",
       "      <td>0</td>\n",
       "      <td>1</td>\n",
       "      <td>0</td>\n",
       "      <td>sales</td>\n",
       "      <td>low</td>\n",
       "    </tr>\n",
       "    <tr>\n",
       "      <th>1</th>\n",
       "      <td>0.80</td>\n",
       "      <td>0.86</td>\n",
       "      <td>5</td>\n",
       "      <td>262</td>\n",
       "      <td>6</td>\n",
       "      <td>0</td>\n",
       "      <td>1</td>\n",
       "      <td>0</td>\n",
       "      <td>sales</td>\n",
       "      <td>medium</td>\n",
       "    </tr>\n",
       "    <tr>\n",
       "      <th>2</th>\n",
       "      <td>0.11</td>\n",
       "      <td>0.88</td>\n",
       "      <td>7</td>\n",
       "      <td>272</td>\n",
       "      <td>4</td>\n",
       "      <td>0</td>\n",
       "      <td>1</td>\n",
       "      <td>0</td>\n",
       "      <td>sales</td>\n",
       "      <td>medium</td>\n",
       "    </tr>\n",
       "    <tr>\n",
       "      <th>3</th>\n",
       "      <td>0.72</td>\n",
       "      <td>0.87</td>\n",
       "      <td>5</td>\n",
       "      <td>223</td>\n",
       "      <td>5</td>\n",
       "      <td>0</td>\n",
       "      <td>1</td>\n",
       "      <td>0</td>\n",
       "      <td>sales</td>\n",
       "      <td>low</td>\n",
       "    </tr>\n",
       "    <tr>\n",
       "      <th>4</th>\n",
       "      <td>0.37</td>\n",
       "      <td>0.52</td>\n",
       "      <td>2</td>\n",
       "      <td>159</td>\n",
       "      <td>3</td>\n",
       "      <td>0</td>\n",
       "      <td>1</td>\n",
       "      <td>0</td>\n",
       "      <td>sales</td>\n",
       "      <td>low</td>\n",
       "    </tr>\n",
       "  </tbody>\n",
       "</table>\n",
       "</div>"
      ],
      "text/plain": [
       "   satisfaction_level  last_evaluation  number_project  average_montly_hours  \\\n",
       "0                0.38             0.53               2                   157   \n",
       "1                0.80             0.86               5                   262   \n",
       "2                0.11             0.88               7                   272   \n",
       "3                0.72             0.87               5                   223   \n",
       "4                0.37             0.52               2                   159   \n",
       "\n",
       "   time_spend_company  Work_accident  left  promotion_last_5years department  \\\n",
       "0                   3              0     1                      0      sales   \n",
       "1                   6              0     1                      0      sales   \n",
       "2                   4              0     1                      0      sales   \n",
       "3                   5              0     1                      0      sales   \n",
       "4                   3              0     1                      0      sales   \n",
       "\n",
       "   salary  \n",
       "0     low  \n",
       "1  medium  \n",
       "2  medium  \n",
       "3     low  \n",
       "4     low  "
      ]
     },
     "execution_count": 202,
     "metadata": {},
     "output_type": "execute_result"
    }
   ],
   "source": [
    "hr.head()"
   ]
  },
  {
   "cell_type": "code",
   "execution_count": 208,
   "id": "253f2b55",
   "metadata": {},
   "outputs": [],
   "source": [
    "from sklearn.model_selection import train_test_split\n",
    "from sklearn.discriminant_analysis import LinearDiscriminantAnalysis as LDA\n",
    "from sklearn.metrics import accuracy_score"
   ]
  },
  {
   "cell_type": "code",
   "execution_count": 215,
   "id": "3f1aaa8f",
   "metadata": {},
   "outputs": [],
   "source": [
    "test_columns = ['satisfaction_level', 'last_evaluation', 'number_project',\n",
    "       'average_montly_hours', 'time_spend_company', 'Work_accident',\n",
    "       'promotion_last_5years']"
   ]
  },
  {
   "cell_type": "code",
   "execution_count": 216,
   "id": "008f5e65",
   "metadata": {},
   "outputs": [],
   "source": [
    "x_train,x_test,y_train,y_test=train_test_split(\n",
    "    hr[test_columns], \n",
    "    hr['left'],\n",
    "    test_size=0.2)"
   ]
  },
  {
   "cell_type": "code",
   "execution_count": 217,
   "id": "280dd30b",
   "metadata": {},
   "outputs": [
    {
     "data": {
      "text/plain": [
       "LinearDiscriminantAnalysis()"
      ]
     },
     "execution_count": 217,
     "metadata": {},
     "output_type": "execute_result"
    }
   ],
   "source": [
    "lda = LDA()\n",
    "lda.fit(x_train, y_train)"
   ]
  },
  {
   "cell_type": "code",
   "execution_count": 211,
   "id": "6bb59724",
   "metadata": {},
   "outputs": [
    {
     "data": {
      "text/plain": [
       "array([1, 0, 1, ..., 0, 0, 1], dtype=int64)"
      ]
     },
     "execution_count": 211,
     "metadata": {},
     "output_type": "execute_result"
    }
   ],
   "source": [
    "prediction = lda.predict(x_test)\n",
    "prediction"
   ]
  },
  {
   "cell_type": "code",
   "execution_count": 218,
   "id": "cc26cc50",
   "metadata": {},
   "outputs": [
    {
     "data": {
      "text/html": [
       "<div>\n",
       "<style scoped>\n",
       "    .dataframe tbody tr th:only-of-type {\n",
       "        vertical-align: middle;\n",
       "    }\n",
       "\n",
       "    .dataframe tbody tr th {\n",
       "        vertical-align: top;\n",
       "    }\n",
       "\n",
       "    .dataframe thead th {\n",
       "        text-align: right;\n",
       "    }\n",
       "</style>\n",
       "<table border=\"1\" class=\"dataframe\">\n",
       "  <thead>\n",
       "    <tr style=\"text-align: right;\">\n",
       "      <th></th>\n",
       "      <th>target</th>\n",
       "      <th>prediction</th>\n",
       "    </tr>\n",
       "  </thead>\n",
       "  <tbody>\n",
       "    <tr>\n",
       "      <th>2494</th>\n",
       "      <td>0.0</td>\n",
       "      <td>0.0</td>\n",
       "    </tr>\n",
       "    <tr>\n",
       "      <th>2202</th>\n",
       "      <td>0.0</td>\n",
       "      <td>0.0</td>\n",
       "    </tr>\n",
       "    <tr>\n",
       "      <th>2351</th>\n",
       "      <td>0.0</td>\n",
       "      <td>0.0</td>\n",
       "    </tr>\n",
       "    <tr>\n",
       "      <th>468</th>\n",
       "      <td>1.0</td>\n",
       "      <td>0.0</td>\n",
       "    </tr>\n",
       "    <tr>\n",
       "      <th>1913</th>\n",
       "      <td>1.0</td>\n",
       "      <td>0.0</td>\n",
       "    </tr>\n",
       "    <tr>\n",
       "      <th>...</th>\n",
       "      <td>...</td>\n",
       "      <td>...</td>\n",
       "    </tr>\n",
       "    <tr>\n",
       "      <th>14291</th>\n",
       "      <td>1.0</td>\n",
       "      <td>NaN</td>\n",
       "    </tr>\n",
       "    <tr>\n",
       "      <th>5817</th>\n",
       "      <td>0.0</td>\n",
       "      <td>NaN</td>\n",
       "    </tr>\n",
       "    <tr>\n",
       "      <th>9000</th>\n",
       "      <td>0.0</td>\n",
       "      <td>NaN</td>\n",
       "    </tr>\n",
       "    <tr>\n",
       "      <th>13111</th>\n",
       "      <td>0.0</td>\n",
       "      <td>NaN</td>\n",
       "    </tr>\n",
       "    <tr>\n",
       "      <th>9470</th>\n",
       "      <td>0.0</td>\n",
       "      <td>NaN</td>\n",
       "    </tr>\n",
       "  </tbody>\n",
       "</table>\n",
       "<p>3000 rows × 2 columns</p>\n",
       "</div>"
      ],
      "text/plain": [
       "       target  prediction\n",
       "2494      0.0         0.0\n",
       "2202      0.0         0.0\n",
       "2351      0.0         0.0\n",
       "468       1.0         0.0\n",
       "1913      1.0         0.0\n",
       "...       ...         ...\n",
       "14291     1.0         NaN\n",
       "5817      0.0         NaN\n",
       "9000      0.0         NaN\n",
       "13111     0.0         NaN\n",
       "9470      0.0         NaN\n",
       "\n",
       "[3000 rows x 2 columns]"
      ]
     },
     "execution_count": 218,
     "metadata": {},
     "output_type": "execute_result"
    }
   ],
   "source": [
    "result = pd.DataFrame([y_test, prediction]).T\n",
    "result.columns=['target','prediction']\n",
    "result = result.sort_values(by='prediction')\n",
    "\n",
    "result"
   ]
  },
  {
   "cell_type": "code",
   "execution_count": 238,
   "id": "b9d587d0",
   "metadata": {},
   "outputs": [
    {
     "name": "stdout",
     "output_type": "stream",
     "text": [
      "Точность прдсказания: 69.67%\n"
     ]
    }
   ],
   "source": [
    "accuracy = accuracy_score(y_test, prediction)\n",
    "\n",
    "print(f'Точность прдсказания: {accuracy:.2%}')"
   ]
  },
  {
   "cell_type": "code",
   "execution_count": 220,
   "id": "b2cadd8d",
   "metadata": {},
   "outputs": [
    {
     "data": {
      "text/plain": [
       "array([[6.66423645e-01, 7.15771210e-01, 3.78708265e+00, 1.98903339e+02,\n",
       "        3.37296114e+00, 1.74603175e-01, 2.62725780e-02],\n",
       "       [4.41263966e-01, 7.16819134e-01, 3.84427374e+00, 2.06885126e+02,\n",
       "        3.87465084e+00, 4.71368715e-02, 5.58659218e-03]])"
      ]
     },
     "execution_count": 220,
     "metadata": {},
     "output_type": "execute_result"
    }
   ],
   "source": [
    "lda.means_"
   ]
  },
  {
   "cell_type": "code",
   "execution_count": 236,
   "id": "10f7c71e",
   "metadata": {},
   "outputs": [
    {
     "name": "stdout",
     "output_type": "stream",
     "text": [
      "satisfaction_level\n",
      "[0.66642365 0.44126397]\n"
     ]
    },
    {
     "data": {
      "image/png": "[encoded data removed]",
      "text/plain": [
       "<Figure size 432x288 with 1 Axes>"
      ]
     },
     "metadata": {
      "needs_background": "light"
     },
     "output_type": "display_data"
    },
    {
     "name": "stdout",
     "output_type": "stream",
     "text": [
      "last_evaluation\n",
      "[0.71577121 0.71681913]\n"
     ]
    },
    {
     "data": {
      "image/png": "[encoded data removed]",
      "text/plain": [
       "<Figure size 432x288 with 1 Axes>"
      ]
     },
     "metadata": {
      "needs_background": "light"
     },
     "output_type": "display_data"
    },
    {
     "name": "stdout",
     "output_type": "stream",
     "text": [
      "number_project\n",
      "[3.78708265 3.84427374]\n"
     ]
    },
    {
     "data": {
      "image/png": "[encoded data removed]",
      "text/plain": [
       "<Figure size 432x288 with 1 Axes>"
      ]
     },
     "metadata": {
      "needs_background": "light"
     },
     "output_type": "display_data"
    },
    {
     "name": "stdout",
     "output_type": "stream",
     "text": [
      "average_montly_hours\n",
      "[198.90333881 206.8851257 ]\n"
     ]
    },
    {
     "data": {
      "image/png": "[encoded data removed]",
      "text/plain": [
       "<Figure size 432x288 with 1 Axes>"
      ]
     },
     "metadata": {
      "needs_background": "light"
     },
     "output_type": "display_data"
    },
    {
     "name": "stdout",
     "output_type": "stream",
     "text": [
      "time_spend_company\n",
      "[3.37296114 3.87465084]\n"
     ]
    },
    {
     "data": {
      "image/png": "[encoded data removed]",
      "text/plain": [
       "<Figure size 432x288 with 1 Axes>"
      ]
     },
     "metadata": {
      "needs_background": "light"
     },
     "output_type": "display_data"
    },
    {
     "name": "stdout",
     "output_type": "stream",
     "text": [
      "Work_accident\n",
      "[0.17460317 0.04713687]\n"
     ]
    },
    {
     "data": {
      "image/png": "[encoded data removed]",
      "text/plain": [
       "<Figure size 432x288 with 1 Axes>"
      ]
     },
     "metadata": {
      "needs_background": "light"
     },
     "output_type": "display_data"
    },
    {
     "name": "stdout",
     "output_type": "stream",
     "text": [
      "promotion_last_5years\n",
      "[0.02627258 0.00558659]\n"
     ]
    },
    {
     "data": {
      "image/png": "[encoded data removed]",
      "text/plain": [
       "<Figure size 432x288 with 1 Axes>"
      ]
     },
     "metadata": {
      "needs_background": "light"
     },
     "output_type": "display_data"
    }
   ],
   "source": [
    "for col in range(len(test_columns)):\n",
    "    print(test_columns[col])\n",
    "    means = lda.means_[:,col]\n",
    "    print(means)\n",
    "    plt.bar(['работает','уволился'], height = means)\n",
    "    plt.show()\n",
    "    "
   ]
  }
 ],
 "metadata": {
  "kernelspec": {
   "display_name": "Python 3 (ipykernel)",
   "language": "python",
   "name": "python3"
  },
  "language_info": {
   "codemirror_mode": {
    "name": "ipython",
    "version": 3
   },
   "file_extension": ".py",
   "mimetype": "text/x-python",
   "name": "python",
   "nbconvert_exporter": "python",
   "pygments_lexer": "ipython3",
   "version": "3.7.6"
  }
 },
 "nbformat": 4,
 "nbformat_minor": 5
}
