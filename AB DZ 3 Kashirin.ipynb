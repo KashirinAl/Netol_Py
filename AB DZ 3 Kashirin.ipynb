{
 "cells": [
  {
   "cell_type": "code",
   "execution_count": 120,
   "id": "79572180",
   "metadata": {},
   "outputs": [],
   "source": [
    "import numpy as np\n",
    "import pandas as pd"
   ]
  },
  {
   "cell_type": "code",
   "execution_count": 121,
   "id": "bbf6d581",
   "metadata": {},
   "outputs": [],
   "source": [
    "data_set = pd.read_csv('new_dataframe.csv')"
   ]
  },
  {
   "cell_type": "markdown",
   "id": "99c53418",
   "metadata": {},
   "source": [
    "# ● В период Surge видим более низкую price-to-order конверсию"
   ]
  },
  {
   "cell_type": "markdown",
   "id": "80f4e637",
   "metadata": {},
   "source": [
    "### Если добавить предложение бонусов для всех клиентов в период Surge, конверсия price-to-order вырастет на 5%"
   ]
  },
  {
   "cell_type": "code",
   "execution_count": 123,
   "id": "5889cbb3",
   "metadata": {},
   "outputs": [],
   "source": [
    "quer = 'surge == \"surge\"'"
   ]
  },
  {
   "cell_type": "code",
   "execution_count": 124,
   "id": "939aaa9c",
   "metadata": {},
   "outputs": [],
   "source": [
    "data_set['group_choice'] = data_set.query(quer)['user_id'].apply(\n",
    "    lambda x: 1 if np.random.rand() > 0.5 else 2\n",
    ")"
   ]
  },
  {
   "cell_type": "code",
   "execution_count": 126,
   "id": "7a35ef44",
   "metadata": {},
   "outputs": [
    {
     "name": "stdout",
     "output_type": "stream",
     "text": [
      "По средним показателям выборки различаются от -0.018 до 0.031\n"
     ]
    },
    {
     "data": {
      "text/html": [
       "<div>\n",
       "<style scoped>\n",
       "    .dataframe tbody tr th:only-of-type {\n",
       "        vertical-align: middle;\n",
       "    }\n",
       "\n",
       "    .dataframe tbody tr th {\n",
       "        vertical-align: top;\n",
       "    }\n",
       "\n",
       "    .dataframe thead tr th {\n",
       "        text-align: left;\n",
       "    }\n",
       "</style>\n",
       "<table border=\"1\" class=\"dataframe\">\n",
       "  <thead>\n",
       "    <tr>\n",
       "      <th>surge</th>\n",
       "      <th colspan=\"2\" halign=\"left\">surge</th>\n",
       "      <th>difference</th>\n",
       "    </tr>\n",
       "    <tr>\n",
       "      <th>group_choice</th>\n",
       "      <th>1.0</th>\n",
       "      <th>2.0</th>\n",
       "      <th></th>\n",
       "    </tr>\n",
       "  </thead>\n",
       "  <tbody>\n",
       "    <tr>\n",
       "      <th>user_id</th>\n",
       "      <td>11731.000000</td>\n",
       "      <td>11532.000000</td>\n",
       "      <td>0.017</td>\n",
       "    </tr>\n",
       "    <tr>\n",
       "      <th>hour</th>\n",
       "      <td>12.402840</td>\n",
       "      <td>12.498308</td>\n",
       "      <td>-0.008</td>\n",
       "    </tr>\n",
       "    <tr>\n",
       "      <th>app_opened</th>\n",
       "      <td>1.000000</td>\n",
       "      <td>1.000000</td>\n",
       "      <td>0.000</td>\n",
       "    </tr>\n",
       "    <tr>\n",
       "      <th>price_seen</th>\n",
       "      <td>1.000000</td>\n",
       "      <td>1.000000</td>\n",
       "      <td>0.000</td>\n",
       "    </tr>\n",
       "    <tr>\n",
       "      <th>order_made</th>\n",
       "      <td>0.724537</td>\n",
       "      <td>0.721119</td>\n",
       "      <td>0.005</td>\n",
       "    </tr>\n",
       "    <tr>\n",
       "      <th>ride_completed</th>\n",
       "      <td>0.611737</td>\n",
       "      <td>0.611661</td>\n",
       "      <td>0.000</td>\n",
       "    </tr>\n",
       "    <tr>\n",
       "      <th>user_cancelled</th>\n",
       "      <td>0.112800</td>\n",
       "      <td>0.109458</td>\n",
       "      <td>0.031</td>\n",
       "    </tr>\n",
       "    <tr>\n",
       "      <th>city_center_order</th>\n",
       "      <td>0.562750</td>\n",
       "      <td>0.572961</td>\n",
       "      <td>-0.018</td>\n",
       "    </tr>\n",
       "    <tr>\n",
       "      <th>distance</th>\n",
       "      <td>5.337378</td>\n",
       "      <td>5.415358</td>\n",
       "      <td>-0.014</td>\n",
       "    </tr>\n",
       "    <tr>\n",
       "      <th>age</th>\n",
       "      <td>25.917167</td>\n",
       "      <td>25.886327</td>\n",
       "      <td>0.001</td>\n",
       "    </tr>\n",
       "  </tbody>\n",
       "</table>\n",
       "</div>"
      ],
      "text/plain": [
       "surge                     surge               difference\n",
       "group_choice                1.0           2.0           \n",
       "user_id            11731.000000  11532.000000      0.017\n",
       "hour                  12.402840     12.498308     -0.008\n",
       "app_opened             1.000000      1.000000      0.000\n",
       "price_seen             1.000000      1.000000      0.000\n",
       "order_made             0.724537      0.721119      0.005\n",
       "ride_completed         0.611737      0.611661      0.000\n",
       "user_cancelled         0.112800      0.109458      0.031\n",
       "city_center_order      0.562750      0.572961     -0.018\n",
       "distance               5.337378      5.415358     -0.014\n",
       "age                   25.917167     25.886327      0.001"
      ]
     },
     "metadata": {},
     "output_type": "display_data"
    }
   ],
   "source": [
    "ds_split = data_set.groupby(by=['surge','group_choice']).agg({\n",
    "    'user_id':'nunique',\n",
    "    'hour':'mean',\n",
    "    'app_opened':'mean',\n",
    "    'price_seen':'mean',\n",
    "    'order_made':'mean',\n",
    "    'ride_completed':'mean',\n",
    "    'user_cancelled':'mean',\n",
    "    'city_center_order':'mean',\n",
    "    'distance':'mean',\n",
    "    'age':'mean'\n",
    "}).T\n",
    "\n",
    "ds_split['difference'] = round(\n",
    "    ds_split[ds_split.columns[0]] / ds_split[ds_split.columns[1]] - 1\n",
    "    ,3\n",
    ")\n",
    "\n",
    "print(f'По средним показателям выборки различаются от {ds_split.difference.min()} до {ds_split.difference.max()}')\n",
    "\n",
    "display(ds_split)"
   ]
  },
  {
   "cell_type": "code",
   "execution_count": 127,
   "id": "9a4ed4e7",
   "metadata": {},
   "outputs": [
    {
     "data": {
      "image/png": "[encoded data removed]",
      "text/plain": [
       "<Figure size 432x288 with 1 Axes>"
      ]
     },
     "metadata": {
      "needs_background": "light"
     },
     "output_type": "display_data"
    },
    {
     "data": {
      "image/png": "[encoded data removed]",
      "text/plain": [
       "<Figure size 432x288 with 1 Axes>"
      ]
     },
     "metadata": {
      "needs_background": "light"
     },
     "output_type": "display_data"
    },
    {
     "data": {
      "image/png": "[encoded data removed]",
      "text/plain": [
       "<Figure size 432x288 with 1 Axes>"
      ]
     },
     "metadata": {
      "needs_background": "light"
     },
     "output_type": "display_data"
    },
    {
     "data": {
      "image/png": "[encoded data removed]",
      "text/plain": [
       "<Figure size 432x288 with 1 Axes>"
      ]
     },
     "metadata": {
      "needs_background": "light"
     },
     "output_type": "display_data"
    },
    {
     "data": {
      "image/png": "[encoded data removed]",
      "text/plain": [
       "<Figure size 432x288 with 1 Axes>"
      ]
     },
     "metadata": {
      "needs_background": "light"
     },
     "output_type": "display_data"
    },
    {
     "data": {
      "image/png": "[encoded data removed]",
      "text/plain": [
       "<Figure size 432x288 with 1 Axes>"
      ]
     },
     "metadata": {
      "needs_background": "light"
     },
     "output_type": "display_data"
    },
    {
     "data": {
      "image/png": "[encoded data removed]",
      "text/plain": [
       "<Figure size 432x288 with 1 Axes>"
      ]
     },
     "metadata": {
      "needs_background": "light"
     },
     "output_type": "display_data"
    },
    {
     "data": {
      "image/png": "[encoded data removed]",
      "text/plain": [
       "<Figure size 432x288 with 1 Axes>"
      ]
     },
     "metadata": {
      "needs_background": "light"
     },
     "output_type": "display_data"
    },
    {
     "data": {
      "image/png": "[encoded data removed]",
      "text/plain": [
       "<Figure size 432x288 with 1 Axes>"
      ]
     },
     "metadata": {
      "needs_background": "light"
     },
     "output_type": "display_data"
    },
    {
     "data": {
      "image/png": "[encoded data removed]",
      "text/plain": [
       "<Figure size 432x288 with 1 Axes>"
      ]
     },
     "metadata": {
      "needs_background": "light"
     },
     "output_type": "display_data"
    }
   ],
   "source": [
    "for column in ['hour', 'os', 'order_class',\n",
    "       'app_opened', 'price_seen', 'order_made', 'ride_completed',\n",
    "       'user_cancelled', 'city_center_order', 'rfm']:\n",
    "    data_set.pivot_table(\n",
    "        index='group_choice',\n",
    "        columns=column,\n",
    "        values='user_id',\n",
    "        aggfunc='nunique'\n",
    "    ).T.plot.bar();"
   ]
  },
  {
   "cell_type": "code",
   "execution_count": 129,
   "id": "fd5b78b7",
   "metadata": {},
   "outputs": [
    {
     "data": {
      "text/html": [
       "<div>\n",
       "<style scoped>\n",
       "    .dataframe tbody tr th:only-of-type {\n",
       "        vertical-align: middle;\n",
       "    }\n",
       "\n",
       "    .dataframe tbody tr th {\n",
       "        vertical-align: top;\n",
       "    }\n",
       "\n",
       "    .dataframe thead th {\n",
       "        text-align: right;\n",
       "    }\n",
       "</style>\n",
       "<table border=\"1\" class=\"dataframe\">\n",
       "  <thead>\n",
       "    <tr style=\"text-align: right;\">\n",
       "      <th></th>\n",
       "      <th>Unnamed: 0</th>\n",
       "      <th>user_id</th>\n",
       "      <th>hour</th>\n",
       "      <th>os</th>\n",
       "      <th>order_class</th>\n",
       "      <th>surge</th>\n",
       "      <th>app_opened</th>\n",
       "      <th>price_seen</th>\n",
       "      <th>order_made</th>\n",
       "      <th>ride_completed</th>\n",
       "      <th>user_cancelled</th>\n",
       "      <th>city_center_order</th>\n",
       "      <th>distance</th>\n",
       "      <th>age</th>\n",
       "      <th>rfm</th>\n",
       "      <th>group_choice</th>\n",
       "      <th>n_rank</th>\n",
       "    </tr>\n",
       "  </thead>\n",
       "  <tbody>\n",
       "    <tr>\n",
       "      <th>56017</th>\n",
       "      <td>56017</td>\n",
       "      <td>557088</td>\n",
       "      <td>20</td>\n",
       "      <td>iOS</td>\n",
       "      <td>economy</td>\n",
       "      <td>surge</td>\n",
       "      <td>1</td>\n",
       "      <td>1</td>\n",
       "      <td>1</td>\n",
       "      <td>1</td>\n",
       "      <td>0</td>\n",
       "      <td>0</td>\n",
       "      <td>0.010946</td>\n",
       "      <td>22</td>\n",
       "      <td>high</td>\n",
       "      <td>2.0</td>\n",
       "      <td>31643.0</td>\n",
       "    </tr>\n",
       "    <tr>\n",
       "      <th>66287</th>\n",
       "      <td>66287</td>\n",
       "      <td>342537</td>\n",
       "      <td>20</td>\n",
       "      <td>Android</td>\n",
       "      <td>economy</td>\n",
       "      <td>surge</td>\n",
       "      <td>1</td>\n",
       "      <td>1</td>\n",
       "      <td>1</td>\n",
       "      <td>1</td>\n",
       "      <td>0</td>\n",
       "      <td>1</td>\n",
       "      <td>0.030222</td>\n",
       "      <td>20</td>\n",
       "      <td>high</td>\n",
       "      <td>1.0</td>\n",
       "      <td>31642.0</td>\n",
       "    </tr>\n",
       "    <tr>\n",
       "      <th>30485</th>\n",
       "      <td>30485</td>\n",
       "      <td>753709</td>\n",
       "      <td>2</td>\n",
       "      <td>Android</td>\n",
       "      <td>economy</td>\n",
       "      <td>surge</td>\n",
       "      <td>1</td>\n",
       "      <td>1</td>\n",
       "      <td>1</td>\n",
       "      <td>1</td>\n",
       "      <td>0</td>\n",
       "      <td>0</td>\n",
       "      <td>0.042268</td>\n",
       "      <td>26</td>\n",
       "      <td>low</td>\n",
       "      <td>1.0</td>\n",
       "      <td>31641.0</td>\n",
       "    </tr>\n",
       "    <tr>\n",
       "      <th>99522</th>\n",
       "      <td>99522</td>\n",
       "      <td>658012</td>\n",
       "      <td>8</td>\n",
       "      <td>iOS</td>\n",
       "      <td>economy</td>\n",
       "      <td>surge</td>\n",
       "      <td>1</td>\n",
       "      <td>1</td>\n",
       "      <td>1</td>\n",
       "      <td>1</td>\n",
       "      <td>0</td>\n",
       "      <td>1</td>\n",
       "      <td>0.048325</td>\n",
       "      <td>24</td>\n",
       "      <td>low</td>\n",
       "      <td>1.0</td>\n",
       "      <td>31640.0</td>\n",
       "    </tr>\n",
       "    <tr>\n",
       "      <th>74490</th>\n",
       "      <td>74490</td>\n",
       "      <td>615616</td>\n",
       "      <td>0</td>\n",
       "      <td>Android</td>\n",
       "      <td>economy</td>\n",
       "      <td>surge</td>\n",
       "      <td>1</td>\n",
       "      <td>1</td>\n",
       "      <td>1</td>\n",
       "      <td>0</td>\n",
       "      <td>1</td>\n",
       "      <td>0</td>\n",
       "      <td>0.048850</td>\n",
       "      <td>26</td>\n",
       "      <td>high</td>\n",
       "      <td>2.0</td>\n",
       "      <td>31639.0</td>\n",
       "    </tr>\n",
       "    <tr>\n",
       "      <th>...</th>\n",
       "      <td>...</td>\n",
       "      <td>...</td>\n",
       "      <td>...</td>\n",
       "      <td>...</td>\n",
       "      <td>...</td>\n",
       "      <td>...</td>\n",
       "      <td>...</td>\n",
       "      <td>...</td>\n",
       "      <td>...</td>\n",
       "      <td>...</td>\n",
       "      <td>...</td>\n",
       "      <td>...</td>\n",
       "      <td>...</td>\n",
       "      <td>...</td>\n",
       "      <td>...</td>\n",
       "      <td>...</td>\n",
       "      <td>...</td>\n",
       "    </tr>\n",
       "    <tr>\n",
       "      <th>12268</th>\n",
       "      <td>12268</td>\n",
       "      <td>158828</td>\n",
       "      <td>4</td>\n",
       "      <td>iOS</td>\n",
       "      <td>business</td>\n",
       "      <td>surge</td>\n",
       "      <td>1</td>\n",
       "      <td>1</td>\n",
       "      <td>0</td>\n",
       "      <td>0</td>\n",
       "      <td>0</td>\n",
       "      <td>0</td>\n",
       "      <td>29.927395</td>\n",
       "      <td>29</td>\n",
       "      <td>low</td>\n",
       "      <td>2.0</td>\n",
       "      <td>5.0</td>\n",
       "    </tr>\n",
       "    <tr>\n",
       "      <th>34692</th>\n",
       "      <td>34692</td>\n",
       "      <td>851019</td>\n",
       "      <td>7</td>\n",
       "      <td>iOS</td>\n",
       "      <td>business</td>\n",
       "      <td>surge</td>\n",
       "      <td>1</td>\n",
       "      <td>1</td>\n",
       "      <td>1</td>\n",
       "      <td>1</td>\n",
       "      <td>0</td>\n",
       "      <td>1</td>\n",
       "      <td>30.482253</td>\n",
       "      <td>33</td>\n",
       "      <td>low</td>\n",
       "      <td>1.0</td>\n",
       "      <td>4.0</td>\n",
       "    </tr>\n",
       "    <tr>\n",
       "      <th>71069</th>\n",
       "      <td>71069</td>\n",
       "      <td>471754</td>\n",
       "      <td>9</td>\n",
       "      <td>Android</td>\n",
       "      <td>business</td>\n",
       "      <td>surge</td>\n",
       "      <td>1</td>\n",
       "      <td>1</td>\n",
       "      <td>1</td>\n",
       "      <td>1</td>\n",
       "      <td>0</td>\n",
       "      <td>1</td>\n",
       "      <td>30.694859</td>\n",
       "      <td>25</td>\n",
       "      <td>high</td>\n",
       "      <td>1.0</td>\n",
       "      <td>3.0</td>\n",
       "    </tr>\n",
       "    <tr>\n",
       "      <th>57821</th>\n",
       "      <td>57821</td>\n",
       "      <td>727927</td>\n",
       "      <td>21</td>\n",
       "      <td>Android</td>\n",
       "      <td>business</td>\n",
       "      <td>surge</td>\n",
       "      <td>1</td>\n",
       "      <td>1</td>\n",
       "      <td>1</td>\n",
       "      <td>0</td>\n",
       "      <td>1</td>\n",
       "      <td>1</td>\n",
       "      <td>31.475713</td>\n",
       "      <td>30</td>\n",
       "      <td>low</td>\n",
       "      <td>1.0</td>\n",
       "      <td>2.0</td>\n",
       "    </tr>\n",
       "    <tr>\n",
       "      <th>93335</th>\n",
       "      <td>93335</td>\n",
       "      <td>204162</td>\n",
       "      <td>19</td>\n",
       "      <td>iOS</td>\n",
       "      <td>business</td>\n",
       "      <td>surge</td>\n",
       "      <td>1</td>\n",
       "      <td>1</td>\n",
       "      <td>0</td>\n",
       "      <td>0</td>\n",
       "      <td>0</td>\n",
       "      <td>1</td>\n",
       "      <td>36.338323</td>\n",
       "      <td>28</td>\n",
       "      <td>low</td>\n",
       "      <td>2.0</td>\n",
       "      <td>1.0</td>\n",
       "    </tr>\n",
       "  </tbody>\n",
       "</table>\n",
       "<p>31643 rows × 17 columns</p>\n",
       "</div>"
      ],
      "text/plain": [
       "       Unnamed: 0  user_id  hour       os order_class  surge  app_opened  \\\n",
       "56017       56017   557088    20      iOS     economy  surge           1   \n",
       "66287       66287   342537    20  Android     economy  surge           1   \n",
       "30485       30485   753709     2  Android     economy  surge           1   \n",
       "99522       99522   658012     8      iOS     economy  surge           1   \n",
       "74490       74490   615616     0  Android     economy  surge           1   \n",
       "...           ...      ...   ...      ...         ...    ...         ...   \n",
       "12268       12268   158828     4      iOS    business  surge           1   \n",
       "34692       34692   851019     7      iOS    business  surge           1   \n",
       "71069       71069   471754     9  Android    business  surge           1   \n",
       "57821       57821   727927    21  Android    business  surge           1   \n",
       "93335       93335   204162    19      iOS    business  surge           1   \n",
       "\n",
       "       price_seen  order_made  ride_completed  user_cancelled  \\\n",
       "56017           1           1               1               0   \n",
       "66287           1           1               1               0   \n",
       "30485           1           1               1               0   \n",
       "99522           1           1               1               0   \n",
       "74490           1           1               0               1   \n",
       "...           ...         ...             ...             ...   \n",
       "12268           1           0               0               0   \n",
       "34692           1           1               1               0   \n",
       "71069           1           1               1               0   \n",
       "57821           1           1               0               1   \n",
       "93335           1           0               0               0   \n",
       "\n",
       "       city_center_order   distance  age   rfm  group_choice   n_rank  \n",
       "56017                  0   0.010946   22  high           2.0  31643.0  \n",
       "66287                  1   0.030222   20  high           1.0  31642.0  \n",
       "30485                  0   0.042268   26   low           1.0  31641.0  \n",
       "99522                  1   0.048325   24   low           1.0  31640.0  \n",
       "74490                  0   0.048850   26  high           2.0  31639.0  \n",
       "...                  ...        ...  ...   ...           ...      ...  \n",
       "12268                  0  29.927395   29   low           2.0      5.0  \n",
       "34692                  1  30.482253   33   low           1.0      4.0  \n",
       "71069                  1  30.694859   25  high           1.0      3.0  \n",
       "57821                  1  31.475713   30   low           1.0      2.0  \n",
       "93335                  1  36.338323   28   low           2.0      1.0  \n",
       "\n",
       "[31643 rows x 17 columns]"
      ]
     },
     "execution_count": 129,
     "metadata": {},
     "output_type": "execute_result"
    }
   ],
   "source": [
    "ds_ranged = data_set.query(\n",
    "    'group_choice > 0'\n",
    ").sort_values(\n",
    "    by='distance'\n",
    ")\n",
    "\n",
    "ds_ranged['n_rank'] = ds_ranged['distance'].rank(\n",
    "    ascending=False, \n",
    "    method='average'\n",
    ")\n",
    "\n",
    "ds_ranged"
   ]
  },
  {
   "cell_type": "code",
   "execution_count": 130,
   "id": "ce7afdd1",
   "metadata": {},
   "outputs": [
    {
     "data": {
      "text/html": [
       "<div>\n",
       "<style scoped>\n",
       "    .dataframe tbody tr th:only-of-type {\n",
       "        vertical-align: middle;\n",
       "    }\n",
       "\n",
       "    .dataframe tbody tr th {\n",
       "        vertical-align: top;\n",
       "    }\n",
       "\n",
       "    .dataframe thead th {\n",
       "        text-align: right;\n",
       "    }\n",
       "</style>\n",
       "<table border=\"1\" class=\"dataframe\">\n",
       "  <thead>\n",
       "    <tr style=\"text-align: right;\">\n",
       "      <th></th>\n",
       "      <th>user_id</th>\n",
       "      <th>n_rank</th>\n",
       "    </tr>\n",
       "    <tr>\n",
       "      <th>group_choice</th>\n",
       "      <th></th>\n",
       "      <th></th>\n",
       "    </tr>\n",
       "  </thead>\n",
       "  <tbody>\n",
       "    <tr>\n",
       "      <th>1.0</th>\n",
       "      <td>15984</td>\n",
       "      <td>254567818.0</td>\n",
       "    </tr>\n",
       "    <tr>\n",
       "      <th>2.0</th>\n",
       "      <td>15659</td>\n",
       "      <td>246087728.0</td>\n",
       "    </tr>\n",
       "  </tbody>\n",
       "</table>\n",
       "</div>"
      ],
      "text/plain": [
       "              user_id       n_rank\n",
       "group_choice                      \n",
       "1.0             15984  254567818.0\n",
       "2.0             15659  246087728.0"
      ]
     },
     "execution_count": 130,
     "metadata": {},
     "output_type": "execute_result"
    }
   ],
   "source": [
    "ds_overed = ds_ranged.groupby('group_choice').agg({\n",
    "    'user_id':'count',\n",
    "    'n_rank':'sum' \n",
    "})\n",
    "\n",
    "ds_overed"
   ]
  },
  {
   "cell_type": "code",
   "execution_count": 131,
   "id": "3dd21727",
   "metadata": {},
   "outputs": [
    {
     "name": "stdout",
     "output_type": "stream",
     "text": [
      "123477758.0\n"
     ]
    }
   ],
   "source": [
    "n1n2 = ds_overed.user_id[1] * ds_overed.user_id[2]\n",
    "\n",
    "\n",
    "\n",
    "n1n1 = ds_overed.user_id[1] * (1 + ds_overed.user_id[1]) / 2\n",
    "\n",
    "r1 = ds_overed.n_rank[1]\n",
    "\n",
    "\n",
    "n2n2 = ds_overed.user_id[2] * (1 + ds_overed.user_id[2]) / 2\n",
    "\n",
    "r2 = ds_overed.n_rank[2]\n",
    "\n",
    "\n",
    "\n",
    "u1 = n1n2 + n1n1 - r1\n",
    "\n",
    "u2 = n1n2 + n2n2 - r2\n",
    "\n",
    "\n",
    "MU = min(u1, u2)\n",
    "\n",
    "print(MU)"
   ]
  },
  {
   "cell_type": "markdown",
   "id": "4e2709bf",
   "metadata": {},
   "source": [
    "# ● Для устройств Android наблюдаем более высокие юзерские отмены"
   ]
  },
  {
   "cell_type": "markdown",
   "id": "a11fdcbb",
   "metadata": {},
   "source": [
    "### Если добавить пуши для пользователей устройств Android, доля юзерских отмен уменьшится на 5%"
   ]
  },
  {
   "cell_type": "code",
   "execution_count": 133,
   "id": "355d9c11",
   "metadata": {},
   "outputs": [],
   "source": [
    "quer = 'os == \"Android\"'"
   ]
  },
  {
   "cell_type": "code",
   "execution_count": 134,
   "id": "f86bf523",
   "metadata": {},
   "outputs": [],
   "source": [
    "data_set['group_choice'] = data_set.query(quer)['user_id'].apply(\n",
    "    lambda x: 1 if np.random.rand() > 0.5 else 2\n",
    ")"
   ]
  },
  {
   "cell_type": "code",
   "execution_count": 135,
   "id": "27536ef1",
   "metadata": {},
   "outputs": [
    {
     "name": "stdout",
     "output_type": "stream",
     "text": [
      "По средним показателям выборки различаются от -0.007 до 0.02\n"
     ]
    },
    {
     "data": {
      "text/html": [
       "<div>\n",
       "<style scoped>\n",
       "    .dataframe tbody tr th:only-of-type {\n",
       "        vertical-align: middle;\n",
       "    }\n",
       "\n",
       "    .dataframe tbody tr th {\n",
       "        vertical-align: top;\n",
       "    }\n",
       "\n",
       "    .dataframe thead tr th {\n",
       "        text-align: left;\n",
       "    }\n",
       "</style>\n",
       "<table border=\"1\" class=\"dataframe\">\n",
       "  <thead>\n",
       "    <tr>\n",
       "      <th>os</th>\n",
       "      <th colspan=\"2\" halign=\"left\">Android</th>\n",
       "      <th>difference</th>\n",
       "    </tr>\n",
       "    <tr>\n",
       "      <th>group_choice</th>\n",
       "      <th>1.0</th>\n",
       "      <th>2.0</th>\n",
       "      <th></th>\n",
       "    </tr>\n",
       "  </thead>\n",
       "  <tbody>\n",
       "    <tr>\n",
       "      <th>user_id</th>\n",
       "      <td>16799.000000</td>\n",
       "      <td>16782.000000</td>\n",
       "      <td>0.001</td>\n",
       "    </tr>\n",
       "    <tr>\n",
       "      <th>hour</th>\n",
       "      <td>11.462240</td>\n",
       "      <td>11.537411</td>\n",
       "      <td>-0.007</td>\n",
       "    </tr>\n",
       "    <tr>\n",
       "      <th>app_opened</th>\n",
       "      <td>1.000000</td>\n",
       "      <td>1.000000</td>\n",
       "      <td>0.000</td>\n",
       "    </tr>\n",
       "    <tr>\n",
       "      <th>price_seen</th>\n",
       "      <td>0.883352</td>\n",
       "      <td>0.882163</td>\n",
       "      <td>0.001</td>\n",
       "    </tr>\n",
       "    <tr>\n",
       "      <th>order_made</th>\n",
       "      <td>0.684342</td>\n",
       "      <td>0.684397</td>\n",
       "      <td>-0.000</td>\n",
       "    </tr>\n",
       "    <tr>\n",
       "      <th>ride_completed</th>\n",
       "      <td>0.554394</td>\n",
       "      <td>0.554965</td>\n",
       "      <td>-0.001</td>\n",
       "    </tr>\n",
       "    <tr>\n",
       "      <th>user_cancelled</th>\n",
       "      <td>0.129948</td>\n",
       "      <td>0.129433</td>\n",
       "      <td>0.004</td>\n",
       "    </tr>\n",
       "    <tr>\n",
       "      <th>city_center_order</th>\n",
       "      <td>0.568431</td>\n",
       "      <td>0.557518</td>\n",
       "      <td>0.020</td>\n",
       "    </tr>\n",
       "    <tr>\n",
       "      <th>distance</th>\n",
       "      <td>5.375030</td>\n",
       "      <td>5.366247</td>\n",
       "      <td>0.002</td>\n",
       "    </tr>\n",
       "    <tr>\n",
       "      <th>age</th>\n",
       "      <td>25.936868</td>\n",
       "      <td>25.969291</td>\n",
       "      <td>-0.001</td>\n",
       "    </tr>\n",
       "  </tbody>\n",
       "</table>\n",
       "</div>"
      ],
      "text/plain": [
       "os                      Android               difference\n",
       "group_choice                1.0           2.0           \n",
       "user_id            16799.000000  16782.000000      0.001\n",
       "hour                  11.462240     11.537411     -0.007\n",
       "app_opened             1.000000      1.000000      0.000\n",
       "price_seen             0.883352      0.882163      0.001\n",
       "order_made             0.684342      0.684397     -0.000\n",
       "ride_completed         0.554394      0.554965     -0.001\n",
       "user_cancelled         0.129948      0.129433      0.004\n",
       "city_center_order      0.568431      0.557518      0.020\n",
       "distance               5.375030      5.366247      0.002\n",
       "age                   25.936868     25.969291     -0.001"
      ]
     },
     "metadata": {},
     "output_type": "display_data"
    }
   ],
   "source": [
    "ds_split = data_set.groupby(by=['os','group_choice']).agg({\n",
    "    'user_id':'nunique',\n",
    "    'hour':'mean',\n",
    "    'app_opened':'mean',\n",
    "    'price_seen':'mean',\n",
    "    'order_made':'mean',\n",
    "    'ride_completed':'mean',\n",
    "    'user_cancelled':'mean',\n",
    "    'city_center_order':'mean',\n",
    "    'distance':'mean',\n",
    "    'age':'mean'\n",
    "}).T\n",
    "\n",
    "ds_split['difference'] = round(\n",
    "    ds_split[ds_split.columns[0]] / ds_split[ds_split.columns[1]] - 1\n",
    "    ,3\n",
    ")\n",
    "\n",
    "print(f'По средним показателям выборки различаются от {ds_split.difference.min()} до {ds_split.difference.max()}')\n",
    "\n",
    "display(ds_split)"
   ]
  },
  {
   "cell_type": "code",
   "execution_count": 136,
   "id": "d3387d8c",
   "metadata": {},
   "outputs": [
    {
     "data": {
      "image/png": "[encoded data removed]",
      "text/plain": [
       "<Figure size 432x288 with 1 Axes>"
      ]
     },
     "metadata": {
      "needs_background": "light"
     },
     "output_type": "display_data"
    },
    {
     "data": {
      "image/png": "[encoded data removed]",
      "text/plain": [
       "<Figure size 432x288 with 1 Axes>"
      ]
     },
     "metadata": {
      "needs_background": "light"
     },
     "output_type": "display_data"
    },
    {
     "data": {
      "image/png": "[encoded data removed]",
      "text/plain": [
       "<Figure size 432x288 with 1 Axes>"
      ]
     },
     "metadata": {
      "needs_background": "light"
     },
     "output_type": "display_data"
    },
    {
     "data": {
      "image/png": "[encoded data removed]",
      "text/plain": [
       "<Figure size 432x288 with 1 Axes>"
      ]
     },
     "metadata": {
      "needs_background": "light"
     },
     "output_type": "display_data"
    },
    {
     "data": {
      "image/png": "[encoded data removed]",
      "text/plain": [
       "<Figure size 432x288 with 1 Axes>"
      ]
     },
     "metadata": {
      "needs_background": "light"
     },
     "output_type": "display_data"
    },
    {
     "data": {
      "image/png": "[encoded data removed]",
      "text/plain": [
       "<Figure size 432x288 with 1 Axes>"
      ]
     },
     "metadata": {
      "needs_background": "light"
     },
     "output_type": "display_data"
    },
    {
     "data": {
      "image/png": "[encoded data removed]",
      "text/plain": [
       "<Figure size 432x288 with 1 Axes>"
      ]
     },
     "metadata": {
      "needs_background": "light"
     },
     "output_type": "display_data"
    },
    {
     "data": {
      "image/png": "[encoded data removed]",
      "text/plain": [
       "<Figure size 432x288 with 1 Axes>"
      ]
     },
     "metadata": {
      "needs_background": "light"
     },
     "output_type": "display_data"
    },
    {
     "data": {
      "image/png": "[encoded data removed]",
      "text/plain": [
       "<Figure size 432x288 with 1 Axes>"
      ]
     },
     "metadata": {
      "needs_background": "light"
     },
     "output_type": "display_data"
    },
    {
     "data": {
      "image/png": "[encoded data removed]",
      "text/plain": [
       "<Figure size 432x288 with 1 Axes>"
      ]
     },
     "metadata": {
      "needs_background": "light"
     },
     "output_type": "display_data"
    }
   ],
   "source": [
    "for column in ['hour', 'surge', 'order_class',\n",
    "       'app_opened', 'price_seen', 'order_made', 'ride_completed',\n",
    "       'user_cancelled', 'city_center_order', 'rfm']:\n",
    "    data_set.pivot_table(\n",
    "        index='group_choice',\n",
    "        columns=column,\n",
    "        values='user_id',\n",
    "        aggfunc='nunique'\n",
    "    ).T.plot.bar();"
   ]
  },
  {
   "cell_type": "code",
   "execution_count": 117,
   "id": "3fd7ff20",
   "metadata": {},
   "outputs": [
    {
     "data": {
      "text/html": [
       "<div>\n",
       "<style scoped>\n",
       "    .dataframe tbody tr th:only-of-type {\n",
       "        vertical-align: middle;\n",
       "    }\n",
       "\n",
       "    .dataframe tbody tr th {\n",
       "        vertical-align: top;\n",
       "    }\n",
       "\n",
       "    .dataframe thead th {\n",
       "        text-align: right;\n",
       "    }\n",
       "</style>\n",
       "<table border=\"1\" class=\"dataframe\">\n",
       "  <thead>\n",
       "    <tr style=\"text-align: right;\">\n",
       "      <th></th>\n",
       "      <th>Unnamed: 0</th>\n",
       "      <th>user_id</th>\n",
       "      <th>hour</th>\n",
       "      <th>os</th>\n",
       "      <th>order_class</th>\n",
       "      <th>surge</th>\n",
       "      <th>app_opened</th>\n",
       "      <th>price_seen</th>\n",
       "      <th>order_made</th>\n",
       "      <th>ride_completed</th>\n",
       "      <th>user_cancelled</th>\n",
       "      <th>city_center_order</th>\n",
       "      <th>distance</th>\n",
       "      <th>age</th>\n",
       "      <th>rfm</th>\n",
       "      <th>group_choice</th>\n",
       "      <th>n_rank</th>\n",
       "    </tr>\n",
       "  </thead>\n",
       "  <tbody>\n",
       "    <tr>\n",
       "      <th>94955</th>\n",
       "      <td>94955</td>\n",
       "      <td>850944</td>\n",
       "      <td>2</td>\n",
       "      <td>Android</td>\n",
       "      <td>economy</td>\n",
       "      <td>no surge</td>\n",
       "      <td>1</td>\n",
       "      <td>1</td>\n",
       "      <td>1</td>\n",
       "      <td>1</td>\n",
       "      <td>0</td>\n",
       "      <td>0</td>\n",
       "      <td>0.022687</td>\n",
       "      <td>18</td>\n",
       "      <td>high</td>\n",
       "      <td>2.0</td>\n",
       "      <td>50049.0</td>\n",
       "    </tr>\n",
       "    <tr>\n",
       "      <th>30734</th>\n",
       "      <td>30734</td>\n",
       "      <td>355050</td>\n",
       "      <td>18</td>\n",
       "      <td>Android</td>\n",
       "      <td>economy</td>\n",
       "      <td>no surge</td>\n",
       "      <td>1</td>\n",
       "      <td>1</td>\n",
       "      <td>1</td>\n",
       "      <td>0</td>\n",
       "      <td>1</td>\n",
       "      <td>1</td>\n",
       "      <td>0.025761</td>\n",
       "      <td>45</td>\n",
       "      <td>low</td>\n",
       "      <td>2.0</td>\n",
       "      <td>50048.0</td>\n",
       "    </tr>\n",
       "    <tr>\n",
       "      <th>66287</th>\n",
       "      <td>66287</td>\n",
       "      <td>342537</td>\n",
       "      <td>20</td>\n",
       "      <td>Android</td>\n",
       "      <td>economy</td>\n",
       "      <td>surge</td>\n",
       "      <td>1</td>\n",
       "      <td>1</td>\n",
       "      <td>1</td>\n",
       "      <td>1</td>\n",
       "      <td>0</td>\n",
       "      <td>1</td>\n",
       "      <td>0.030222</td>\n",
       "      <td>20</td>\n",
       "      <td>high</td>\n",
       "      <td>1.0</td>\n",
       "      <td>50047.0</td>\n",
       "    </tr>\n",
       "    <tr>\n",
       "      <th>92790</th>\n",
       "      <td>92790</td>\n",
       "      <td>291489</td>\n",
       "      <td>19</td>\n",
       "      <td>Android</td>\n",
       "      <td>economy</td>\n",
       "      <td>no surge</td>\n",
       "      <td>1</td>\n",
       "      <td>1</td>\n",
       "      <td>0</td>\n",
       "      <td>0</td>\n",
       "      <td>0</td>\n",
       "      <td>0</td>\n",
       "      <td>0.031468</td>\n",
       "      <td>23</td>\n",
       "      <td>high</td>\n",
       "      <td>2.0</td>\n",
       "      <td>50046.0</td>\n",
       "    </tr>\n",
       "    <tr>\n",
       "      <th>30485</th>\n",
       "      <td>30485</td>\n",
       "      <td>753709</td>\n",
       "      <td>2</td>\n",
       "      <td>Android</td>\n",
       "      <td>economy</td>\n",
       "      <td>surge</td>\n",
       "      <td>1</td>\n",
       "      <td>1</td>\n",
       "      <td>1</td>\n",
       "      <td>1</td>\n",
       "      <td>0</td>\n",
       "      <td>0</td>\n",
       "      <td>0.042268</td>\n",
       "      <td>26</td>\n",
       "      <td>low</td>\n",
       "      <td>2.0</td>\n",
       "      <td>50045.0</td>\n",
       "    </tr>\n",
       "    <tr>\n",
       "      <th>...</th>\n",
       "      <td>...</td>\n",
       "      <td>...</td>\n",
       "      <td>...</td>\n",
       "      <td>...</td>\n",
       "      <td>...</td>\n",
       "      <td>...</td>\n",
       "      <td>...</td>\n",
       "      <td>...</td>\n",
       "      <td>...</td>\n",
       "      <td>...</td>\n",
       "      <td>...</td>\n",
       "      <td>...</td>\n",
       "      <td>...</td>\n",
       "      <td>...</td>\n",
       "      <td>...</td>\n",
       "      <td>...</td>\n",
       "      <td>...</td>\n",
       "    </tr>\n",
       "    <tr>\n",
       "      <th>101465</th>\n",
       "      <td>101465</td>\n",
       "      <td>940677</td>\n",
       "      <td>5</td>\n",
       "      <td>Android</td>\n",
       "      <td>comfort</td>\n",
       "      <td>NaN</td>\n",
       "      <td>1</td>\n",
       "      <td>0</td>\n",
       "      <td>0</td>\n",
       "      <td>0</td>\n",
       "      <td>0</td>\n",
       "      <td>0</td>\n",
       "      <td>NaN</td>\n",
       "      <td>29</td>\n",
       "      <td>low</td>\n",
       "      <td>2.0</td>\n",
       "      <td>NaN</td>\n",
       "    </tr>\n",
       "    <tr>\n",
       "      <th>101467</th>\n",
       "      <td>101467</td>\n",
       "      <td>516750</td>\n",
       "      <td>4</td>\n",
       "      <td>Android</td>\n",
       "      <td>comfort</td>\n",
       "      <td>NaN</td>\n",
       "      <td>1</td>\n",
       "      <td>0</td>\n",
       "      <td>0</td>\n",
       "      <td>0</td>\n",
       "      <td>0</td>\n",
       "      <td>1</td>\n",
       "      <td>NaN</td>\n",
       "      <td>39</td>\n",
       "      <td>high</td>\n",
       "      <td>2.0</td>\n",
       "      <td>NaN</td>\n",
       "    </tr>\n",
       "    <tr>\n",
       "      <th>101469</th>\n",
       "      <td>101469</td>\n",
       "      <td>248955</td>\n",
       "      <td>6</td>\n",
       "      <td>Android</td>\n",
       "      <td>comfort</td>\n",
       "      <td>NaN</td>\n",
       "      <td>1</td>\n",
       "      <td>0</td>\n",
       "      <td>0</td>\n",
       "      <td>0</td>\n",
       "      <td>0</td>\n",
       "      <td>1</td>\n",
       "      <td>NaN</td>\n",
       "      <td>30</td>\n",
       "      <td>high</td>\n",
       "      <td>2.0</td>\n",
       "      <td>NaN</td>\n",
       "    </tr>\n",
       "    <tr>\n",
       "      <th>101474</th>\n",
       "      <td>101474</td>\n",
       "      <td>216082</td>\n",
       "      <td>22</td>\n",
       "      <td>Android</td>\n",
       "      <td>comfort</td>\n",
       "      <td>NaN</td>\n",
       "      <td>1</td>\n",
       "      <td>0</td>\n",
       "      <td>0</td>\n",
       "      <td>0</td>\n",
       "      <td>0</td>\n",
       "      <td>0</td>\n",
       "      <td>NaN</td>\n",
       "      <td>53</td>\n",
       "      <td>medium</td>\n",
       "      <td>1.0</td>\n",
       "      <td>NaN</td>\n",
       "    </tr>\n",
       "    <tr>\n",
       "      <th>101489</th>\n",
       "      <td>101489</td>\n",
       "      <td>969159</td>\n",
       "      <td>22</td>\n",
       "      <td>Android</td>\n",
       "      <td>comfort</td>\n",
       "      <td>NaN</td>\n",
       "      <td>1</td>\n",
       "      <td>0</td>\n",
       "      <td>0</td>\n",
       "      <td>0</td>\n",
       "      <td>0</td>\n",
       "      <td>0</td>\n",
       "      <td>NaN</td>\n",
       "      <td>23</td>\n",
       "      <td>high</td>\n",
       "      <td>1.0</td>\n",
       "      <td>NaN</td>\n",
       "    </tr>\n",
       "  </tbody>\n",
       "</table>\n",
       "<p>56696 rows × 17 columns</p>\n",
       "</div>"
      ],
      "text/plain": [
       "        Unnamed: 0  user_id  hour       os order_class     surge  app_opened  \\\n",
       "94955        94955   850944     2  Android     economy  no surge           1   \n",
       "30734        30734   355050    18  Android     economy  no surge           1   \n",
       "66287        66287   342537    20  Android     economy     surge           1   \n",
       "92790        92790   291489    19  Android     economy  no surge           1   \n",
       "30485        30485   753709     2  Android     economy     surge           1   \n",
       "...            ...      ...   ...      ...         ...       ...         ...   \n",
       "101465      101465   940677     5  Android     comfort       NaN           1   \n",
       "101467      101467   516750     4  Android     comfort       NaN           1   \n",
       "101469      101469   248955     6  Android     comfort       NaN           1   \n",
       "101474      101474   216082    22  Android     comfort       NaN           1   \n",
       "101489      101489   969159    22  Android     comfort       NaN           1   \n",
       "\n",
       "        price_seen  order_made  ride_completed  user_cancelled  \\\n",
       "94955            1           1               1               0   \n",
       "30734            1           1               0               1   \n",
       "66287            1           1               1               0   \n",
       "92790            1           0               0               0   \n",
       "30485            1           1               1               0   \n",
       "...            ...         ...             ...             ...   \n",
       "101465           0           0               0               0   \n",
       "101467           0           0               0               0   \n",
       "101469           0           0               0               0   \n",
       "101474           0           0               0               0   \n",
       "101489           0           0               0               0   \n",
       "\n",
       "        city_center_order  distance  age     rfm  group_choice   n_rank  \n",
       "94955                   0  0.022687   18    high           2.0  50049.0  \n",
       "30734                   1  0.025761   45     low           2.0  50048.0  \n",
       "66287                   1  0.030222   20    high           1.0  50047.0  \n",
       "92790                   0  0.031468   23    high           2.0  50046.0  \n",
       "30485                   0  0.042268   26     low           2.0  50045.0  \n",
       "...                   ...       ...  ...     ...           ...      ...  \n",
       "101465                  0       NaN   29     low           2.0      NaN  \n",
       "101467                  1       NaN   39    high           2.0      NaN  \n",
       "101469                  1       NaN   30    high           2.0      NaN  \n",
       "101474                  0       NaN   53  medium           1.0      NaN  \n",
       "101489                  0       NaN   23    high           1.0      NaN  \n",
       "\n",
       "[56696 rows x 17 columns]"
      ]
     },
     "execution_count": 117,
     "metadata": {},
     "output_type": "execute_result"
    }
   ],
   "source": [
    "ds_ranged = data_set.query(\n",
    "    'group_choice > 0'\n",
    ").sort_values(\n",
    "    by='distance'\n",
    ")\n",
    "\n",
    "ds_ranged['n_rank'] = ds_ranged['distance'].rank(\n",
    "    ascending=False, \n",
    "    method='average'\n",
    ")\n",
    "\n",
    "ds_ranged"
   ]
  },
  {
   "cell_type": "code",
   "execution_count": 118,
   "id": "e1ebd8b4",
   "metadata": {},
   "outputs": [
    {
     "data": {
      "text/html": [
       "<div>\n",
       "<style scoped>\n",
       "    .dataframe tbody tr th:only-of-type {\n",
       "        vertical-align: middle;\n",
       "    }\n",
       "\n",
       "    .dataframe tbody tr th {\n",
       "        vertical-align: top;\n",
       "    }\n",
       "\n",
       "    .dataframe thead th {\n",
       "        text-align: right;\n",
       "    }\n",
       "</style>\n",
       "<table border=\"1\" class=\"dataframe\">\n",
       "  <thead>\n",
       "    <tr style=\"text-align: right;\">\n",
       "      <th></th>\n",
       "      <th>user_id</th>\n",
       "      <th>n_rank</th>\n",
       "    </tr>\n",
       "    <tr>\n",
       "      <th>group_choice</th>\n",
       "      <th></th>\n",
       "      <th></th>\n",
       "    </tr>\n",
       "  </thead>\n",
       "  <tbody>\n",
       "    <tr>\n",
       "      <th>1.0</th>\n",
       "      <td>28628</td>\n",
       "      <td>632698142.0</td>\n",
       "    </tr>\n",
       "    <tr>\n",
       "      <th>2.0</th>\n",
       "      <td>28068</td>\n",
       "      <td>619778083.0</td>\n",
       "    </tr>\n",
       "  </tbody>\n",
       "</table>\n",
       "</div>"
      ],
      "text/plain": [
       "              user_id       n_rank\n",
       "group_choice                      \n",
       "1.0             28628  632698142.0\n",
       "2.0             28068  619778083.0"
      ]
     },
     "execution_count": 118,
     "metadata": {},
     "output_type": "execute_result"
    }
   ],
   "source": [
    "ds_overed = ds_ranged.groupby('group_choice').agg({\n",
    "    'user_id':'count',\n",
    "    'n_rank':'sum' \n",
    "})\n",
    "\n",
    "ds_overed"
   ]
  },
  {
   "cell_type": "code",
   "execution_count": 119,
   "id": "593ae291",
   "metadata": {},
   "outputs": [
    {
     "name": "stdout",
     "output_type": "stream",
     "text": [
      "577672967.0\n"
     ]
    }
   ],
   "source": [
    "n1n2 = ds_overed.user_id[1] * ds_overed.user_id[2]\n",
    "\n",
    "\n",
    "\n",
    "n1n1 = ds_overed.user_id[1] * (1 + ds_overed.user_id[1]) / 2\n",
    "\n",
    "r1 = ds_overed.n_rank[1]\n",
    "\n",
    "\n",
    "n2n2 = ds_overed.user_id[2] * (1 + ds_overed.user_id[2]) / 2\n",
    "\n",
    "r2 = ds_overed.n_rank[2]\n",
    "\n",
    "\n",
    "\n",
    "u1 = n1n2 + n1n1 - r1\n",
    "\n",
    "u2 = n1n2 + n2n2 - r2\n",
    "\n",
    "\n",
    "MU = min(u1, u2)\n",
    "\n",
    "print(MU)"
   ]
  }
 ],
 "metadata": {
  "kernelspec": {
   "display_name": "Python 3 (ipykernel)",
   "language": "python",
   "name": "python3"
  },
  "language_info": {
   "codemirror_mode": {
    "name": "ipython",
    "version": 3
   },
   "file_extension": ".py",
   "mimetype": "text/x-python",
   "name": "python",
   "nbconvert_exporter": "python",
   "pygments_lexer": "ipython3",
   "version": "3.7.6"
  }
 },
 "nbformat": 4,
 "nbformat_minor": 5
}
