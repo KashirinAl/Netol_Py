{
 "cells": [
  {
   "cell_type": "code",
   "execution_count": 1,
   "id": "9879f29e",
   "metadata": {},
   "outputs": [],
   "source": [
    "import numpy as np\n",
    "import pandas as pd\n",
    "import matplotlib.pyplot as plt"
   ]
  },
  {
   "cell_type": "code",
   "execution_count": 2,
   "id": "25b5e44e",
   "metadata": {},
   "outputs": [],
   "source": [
    "t = pd.read_csv('new_dataframe.csv')"
   ]
  },
  {
   "cell_type": "code",
   "execution_count": 3,
   "id": "e53b36ac",
   "metadata": {},
   "outputs": [
    {
     "data": {
      "text/html": [
       "<div>\n",
       "<style scoped>\n",
       "    .dataframe tbody tr th:only-of-type {\n",
       "        vertical-align: middle;\n",
       "    }\n",
       "\n",
       "    .dataframe tbody tr th {\n",
       "        vertical-align: top;\n",
       "    }\n",
       "\n",
       "    .dataframe thead th {\n",
       "        text-align: right;\n",
       "    }\n",
       "</style>\n",
       "<table border=\"1\" class=\"dataframe\">\n",
       "  <thead>\n",
       "    <tr style=\"text-align: right;\">\n",
       "      <th></th>\n",
       "      <th>Unnamed: 0</th>\n",
       "      <th>user_id</th>\n",
       "      <th>hour</th>\n",
       "      <th>os</th>\n",
       "      <th>surge</th>\n",
       "      <th>app_opened</th>\n",
       "      <th>price_seen</th>\n",
       "      <th>order_made</th>\n",
       "      <th>ride_completed</th>\n",
       "      <th>user_cancelled</th>\n",
       "      <th>city_center_order</th>\n",
       "      <th>distance</th>\n",
       "      <th>age</th>\n",
       "      <th>rfm</th>\n",
       "    </tr>\n",
       "  </thead>\n",
       "  <tbody>\n",
       "    <tr>\n",
       "      <th>0</th>\n",
       "      <td>0</td>\n",
       "      <td>867689</td>\n",
       "      <td>12</td>\n",
       "      <td>iOS</td>\n",
       "      <td>no surge</td>\n",
       "      <td>1</td>\n",
       "      <td>1</td>\n",
       "      <td>1</td>\n",
       "      <td>1</td>\n",
       "      <td>0</td>\n",
       "      <td>0</td>\n",
       "      <td>7.982135</td>\n",
       "      <td>20</td>\n",
       "      <td>low</td>\n",
       "    </tr>\n",
       "    <tr>\n",
       "      <th>1</th>\n",
       "      <td>1</td>\n",
       "      <td>752172</td>\n",
       "      <td>5</td>\n",
       "      <td>Android</td>\n",
       "      <td>no surge</td>\n",
       "      <td>1</td>\n",
       "      <td>1</td>\n",
       "      <td>1</td>\n",
       "      <td>1</td>\n",
       "      <td>0</td>\n",
       "      <td>1</td>\n",
       "      <td>2.908468</td>\n",
       "      <td>27</td>\n",
       "      <td>high</td>\n",
       "    </tr>\n",
       "    <tr>\n",
       "      <th>2</th>\n",
       "      <td>2</td>\n",
       "      <td>486559</td>\n",
       "      <td>15</td>\n",
       "      <td>Android</td>\n",
       "      <td>no surge</td>\n",
       "      <td>1</td>\n",
       "      <td>1</td>\n",
       "      <td>1</td>\n",
       "      <td>1</td>\n",
       "      <td>0</td>\n",
       "      <td>0</td>\n",
       "      <td>7.224614</td>\n",
       "      <td>21</td>\n",
       "      <td>high</td>\n",
       "    </tr>\n",
       "    <tr>\n",
       "      <th>3</th>\n",
       "      <td>3</td>\n",
       "      <td>304024</td>\n",
       "      <td>0</td>\n",
       "      <td>Android</td>\n",
       "      <td>no surge</td>\n",
       "      <td>1</td>\n",
       "      <td>1</td>\n",
       "      <td>1</td>\n",
       "      <td>1</td>\n",
       "      <td>0</td>\n",
       "      <td>1</td>\n",
       "      <td>1.874349</td>\n",
       "      <td>52</td>\n",
       "      <td>low</td>\n",
       "    </tr>\n",
       "    <tr>\n",
       "      <th>4</th>\n",
       "      <td>4</td>\n",
       "      <td>139420</td>\n",
       "      <td>0</td>\n",
       "      <td>Android</td>\n",
       "      <td>no surge</td>\n",
       "      <td>1</td>\n",
       "      <td>1</td>\n",
       "      <td>1</td>\n",
       "      <td>1</td>\n",
       "      <td>0</td>\n",
       "      <td>0</td>\n",
       "      <td>10.704778</td>\n",
       "      <td>19</td>\n",
       "      <td>low</td>\n",
       "    </tr>\n",
       "  </tbody>\n",
       "</table>\n",
       "</div>"
      ],
      "text/plain": [
       "   Unnamed: 0  user_id  hour       os     surge  app_opened  price_seen  \\\n",
       "0           0   867689    12      iOS  no surge           1           1   \n",
       "1           1   752172     5  Android  no surge           1           1   \n",
       "2           2   486559    15  Android  no surge           1           1   \n",
       "3           3   304024     0  Android  no surge           1           1   \n",
       "4           4   139420     0  Android  no surge           1           1   \n",
       "\n",
       "   order_made  ride_completed  user_cancelled  city_center_order   distance  \\\n",
       "0           1               1               0                  0   7.982135   \n",
       "1           1               1               0                  1   2.908468   \n",
       "2           1               1               0                  0   7.224614   \n",
       "3           1               1               0                  1   1.874349   \n",
       "4           1               1               0                  0  10.704778   \n",
       "\n",
       "   age   rfm  \n",
       "0   20   low  \n",
       "1   27  high  \n",
       "2   21  high  \n",
       "3   52   low  \n",
       "4   19   low  "
      ]
     },
     "execution_count": 3,
     "metadata": {},
     "output_type": "execute_result"
    }
   ],
   "source": [
    "t.head()"
   ]
  },
  {
   "cell_type": "code",
   "execution_count": 4,
   "id": "f4ec16ca",
   "metadata": {},
   "outputs": [],
   "source": [
    "def means(data):\n",
    "    print(f\"\"\"\n",
    "    Среднее        - {data.mean():.3}\n",
    "    Медиана        - {data.median():.3}\n",
    "    95й персентиль - {data.quantile(q=0.95):.3}\n",
    "    \"\"\")"
   ]
  },
  {
   "cell_type": "code",
   "execution_count": 5,
   "id": "66407dd6",
   "metadata": {},
   "outputs": [],
   "source": [
    "def plot1(data):\n",
    "    data.plot.hist(bins=25, alpha=0.5)\n",
    "    \n",
    "def plot2(data, column):\n",
    "    t[[column]].boxplot()"
   ]
  },
  {
   "cell_type": "markdown",
   "id": "727e3482",
   "metadata": {},
   "source": [
    "# distance"
   ]
  },
  {
   "cell_type": "code",
   "execution_count": 6,
   "id": "fc618040",
   "metadata": {},
   "outputs": [
    {
     "name": "stdout",
     "output_type": "stream",
     "text": [
      "\n",
      "    Среднее        - 5.37\n",
      "    Медиана        - 4.28\n",
      "    95й персентиль - 13.7\n",
      "    \n"
     ]
    }
   ],
   "source": [
    "means(t.distance)"
   ]
  },
  {
   "cell_type": "code",
   "execution_count": 7,
   "id": "7bcbb5cc",
   "metadata": {},
   "outputs": [
    {
     "data": {
      "image/png": "[encoded data removed]",
      "text/plain": [
       "<Figure size 432x288 with 1 Axes>"
      ]
     },
     "metadata": {
      "needs_background": "light"
     },
     "output_type": "display_data"
    }
   ],
   "source": [
    "plot1(t.distance)"
   ]
  },
  {
   "cell_type": "code",
   "execution_count": 8,
   "id": "9aca026f",
   "metadata": {},
   "outputs": [
    {
     "data": {
      "image/png": "[encoded data removed]",
      "text/plain": [
       "<Figure size 432x288 with 1 Axes>"
      ]
     },
     "metadata": {
      "needs_background": "light"
     },
     "output_type": "display_data"
    }
   ],
   "source": [
    "plot2(t.distance, 'distance')"
   ]
  },
  {
   "cell_type": "markdown",
   "id": "7fb21e1c",
   "metadata": {},
   "source": [
    "# Age"
   ]
  },
  {
   "cell_type": "code",
   "execution_count": 9,
   "id": "2ccab1f5",
   "metadata": {},
   "outputs": [
    {
     "name": "stdout",
     "output_type": "stream",
     "text": [
      "\n",
      "    Среднее        - 25.9\n",
      "    Медиана        - 24.0\n",
      "    95й персентиль - 42.0\n",
      "    \n"
     ]
    }
   ],
   "source": [
    "means(t.age)"
   ]
  },
  {
   "cell_type": "code",
   "execution_count": 10,
   "id": "97bc489d",
   "metadata": {},
   "outputs": [
    {
     "data": {
      "image/png": "[encoded data removed]",
      "text/plain": [
       "<Figure size 432x288 with 1 Axes>"
      ]
     },
     "metadata": {
      "needs_background": "light"
     },
     "output_type": "display_data"
    }
   ],
   "source": [
    "plot1(t.age)"
   ]
  },
  {
   "cell_type": "code",
   "execution_count": 11,
   "id": "8a8be94a",
   "metadata": {},
   "outputs": [
    {
     "data": {
      "image/png": "[encoded data removed]",
      "text/plain": [
       "<Figure size 432x288 with 1 Axes>"
      ]
     },
     "metadata": {
      "needs_background": "light"
     },
     "output_type": "display_data"
    }
   ],
   "source": [
    "plot2(t,'age')"
   ]
  },
  {
   "cell_type": "markdown",
   "id": "ad853ae4",
   "metadata": {},
   "source": [
    "# hour of ride"
   ]
  },
  {
   "cell_type": "code",
   "execution_count": 12,
   "id": "882eac39",
   "metadata": {},
   "outputs": [
    {
     "name": "stdout",
     "output_type": "stream",
     "text": [
      "\n",
      "    Среднее        - 11.5\n",
      "    Медиана        - 11.0\n",
      "    95й персентиль - 22.0\n",
      "    \n"
     ]
    }
   ],
   "source": [
    "means(t.hour)"
   ]
  },
  {
   "cell_type": "code",
   "execution_count": 13,
   "id": "e737e628",
   "metadata": {},
   "outputs": [
    {
     "data": {
      "image/png": "[encoded data removed]",
      "text/plain": [
       "<Figure size 432x288 with 1 Axes>"
      ]
     },
     "metadata": {
      "needs_background": "light"
     },
     "output_type": "display_data"
    }
   ],
   "source": [
    "plot1(t.hour)"
   ]
  },
  {
   "cell_type": "code",
   "execution_count": 14,
   "id": "8e51fb4e",
   "metadata": {},
   "outputs": [
    {
     "data": {
      "image/png": "[encoded data removed]",
      "text/plain": [
       "<Figure size 432x288 with 1 Axes>"
      ]
     },
     "metadata": {
      "needs_background": "light"
     },
     "output_type": "display_data"
    }
   ],
   "source": [
    "plot2(t,'hour')"
   ]
  },
  {
   "cell_type": "markdown",
   "id": "7f824f3f",
   "metadata": {},
   "source": [
    "# price_seen"
   ]
  },
  {
   "cell_type": "code",
   "execution_count": 15,
   "id": "f95d5123",
   "metadata": {},
   "outputs": [
    {
     "name": "stdout",
     "output_type": "stream",
     "text": [
      "\n",
      "    Среднее        - 0.901\n",
      "    Медиана        - 1.0\n",
      "    95й персентиль - 1.0\n",
      "    \n"
     ]
    }
   ],
   "source": [
    "means(t.price_seen)"
   ]
  },
  {
   "cell_type": "code",
   "execution_count": 16,
   "id": "4898417d",
   "metadata": {},
   "outputs": [
    {
     "data": {
      "image/png": "[encoded data removed]",
      "text/plain": [
       "<Figure size 432x288 with 1 Axes>"
      ]
     },
     "metadata": {
      "needs_background": "light"
     },
     "output_type": "display_data"
    }
   ],
   "source": [
    "plot1(t.price_seen)"
   ]
  },
  {
   "cell_type": "code",
   "execution_count": 17,
   "id": "4469f37f",
   "metadata": {},
   "outputs": [
    {
     "data": {
      "image/png": "[encoded data removed]",
      "text/plain": [
       "<Figure size 432x288 with 1 Axes>"
      ]
     },
     "metadata": {
      "needs_background": "light"
     },
     "output_type": "display_data"
    }
   ],
   "source": [
    "plot2(t,'price_seen')"
   ]
  },
  {
   "cell_type": "markdown",
   "id": "2c63ee58",
   "metadata": {},
   "source": [
    "# conversion in order"
   ]
  },
  {
   "cell_type": "code",
   "execution_count": 18,
   "id": "71c0c33c",
   "metadata": {},
   "outputs": [
    {
     "name": "stdout",
     "output_type": "stream",
     "text": [
      "\n",
      "    Среднее        - 0.731\n",
      "    Медиана        - 1.0\n",
      "    95й персентиль - 1.0\n",
      "    \n"
     ]
    }
   ],
   "source": [
    "means(t.order_made)"
   ]
  },
  {
   "cell_type": "code",
   "execution_count": 19,
   "id": "ecc6b736",
   "metadata": {},
   "outputs": [
    {
     "data": {
      "image/png": "[encoded data removed]",
      "text/plain": [
       "<Figure size 432x288 with 1 Axes>"
      ]
     },
     "metadata": {
      "needs_background": "light"
     },
     "output_type": "display_data"
    }
   ],
   "source": [
    "plot1(t.order_made)"
   ]
  },
  {
   "cell_type": "code",
   "execution_count": 20,
   "id": "fc484208",
   "metadata": {},
   "outputs": [
    {
     "data": {
      "image/png": "[encoded data removed]",
      "text/plain": [
       "<Figure size 432x288 with 1 Axes>"
      ]
     },
     "metadata": {
      "needs_background": "light"
     },
     "output_type": "display_data"
    }
   ],
   "source": [
    "plot2(t,'order_made')"
   ]
  }
 ],
 "metadata": {
  "kernelspec": {
   "display_name": "Python 3 (ipykernel)",
   "language": "python",
   "name": "python3"
  },
  "language_info": {
   "codemirror_mode": {
    "name": "ipython",
    "version": 3
   },
   "file_extension": ".py",
   "mimetype": "text/x-python",
   "name": "python",
   "nbconvert_exporter": "python",
   "pygments_lexer": "ipython3",
   "version": "3.7.6"
  }
 },
 "nbformat": 4,
 "nbformat_minor": 5
}
