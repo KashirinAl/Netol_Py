{
 "cells": [
  {
   "cell_type": "code",
   "execution_count": 1,
   "id": "79572180",
   "metadata": {},
   "outputs": [],
   "source": [
    "import numpy as np\n",
    "import pandas as pd\n",
    "import matplotlib.pyplot as plt\n",
    "from scipy.stats import ttest_ind"
   ]
  },
  {
   "cell_type": "code",
   "execution_count": null,
   "id": "b2b8d1f7",
   "metadata": {},
   "outputs": [],
   "source": [
    "● Понижение коэффициента surge, чтобы увеличить price-to-order конверсию (во время surge)\n",
    "Ожидаем: выше price-to-order конверсия во время surge"
   ]
  },
  {
   "cell_type": "code",
   "execution_count": 2,
   "id": "86f1295f",
   "metadata": {},
   "outputs": [],
   "source": [
    "ds = pd.read_csv('post_abtest_data.csv')"
   ]
  },
  {
   "cell_type": "code",
   "execution_count": 3,
   "id": "67fda296",
   "metadata": {},
   "outputs": [
    {
     "data": {
      "text/html": [
       "<div>\n",
       "<style scoped>\n",
       "    .dataframe tbody tr th:only-of-type {\n",
       "        vertical-align: middle;\n",
       "    }\n",
       "\n",
       "    .dataframe tbody tr th {\n",
       "        vertical-align: top;\n",
       "    }\n",
       "\n",
       "    .dataframe thead th {\n",
       "        text-align: right;\n",
       "    }\n",
       "</style>\n",
       "<table border=\"1\" class=\"dataframe\">\n",
       "  <thead>\n",
       "    <tr style=\"text-align: right;\">\n",
       "      <th></th>\n",
       "      <th>user_id</th>\n",
       "      <th>date</th>\n",
       "      <th>app_opened</th>\n",
       "      <th>group</th>\n",
       "      <th>price_seen</th>\n",
       "      <th>order_made</th>\n",
       "      <th>surge</th>\n",
       "      <th>os</th>\n",
       "      <th>user_cancelled</th>\n",
       "      <th>city_center_order</th>\n",
       "      <th>groups</th>\n",
       "      <th>price-to-order</th>\n",
       "    </tr>\n",
       "  </thead>\n",
       "  <tbody>\n",
       "    <tr>\n",
       "      <th>1</th>\n",
       "      <td>867689</td>\n",
       "      <td>2020-05-29</td>\n",
       "      <td>1</td>\n",
       "      <td>Control</td>\n",
       "      <td>1</td>\n",
       "      <td>0</td>\n",
       "      <td>surge</td>\n",
       "      <td>iOS</td>\n",
       "      <td>NaN</td>\n",
       "      <td>NaN</td>\n",
       "      <td>Control</td>\n",
       "      <td>0.0</td>\n",
       "    </tr>\n",
       "    <tr>\n",
       "      <th>2</th>\n",
       "      <td>867689</td>\n",
       "      <td>2020-05-25</td>\n",
       "      <td>1</td>\n",
       "      <td>Control</td>\n",
       "      <td>1</td>\n",
       "      <td>1</td>\n",
       "      <td>surge</td>\n",
       "      <td>Android</td>\n",
       "      <td>0.0</td>\n",
       "      <td>0.0</td>\n",
       "      <td>Control</td>\n",
       "      <td>1.0</td>\n",
       "    </tr>\n",
       "    <tr>\n",
       "      <th>3</th>\n",
       "      <td>752172</td>\n",
       "      <td>2020-05-29</td>\n",
       "      <td>1</td>\n",
       "      <td>Control</td>\n",
       "      <td>1</td>\n",
       "      <td>1</td>\n",
       "      <td>surge</td>\n",
       "      <td>Android</td>\n",
       "      <td>0.0</td>\n",
       "      <td>1.0</td>\n",
       "      <td>Control</td>\n",
       "      <td>1.0</td>\n",
       "    </tr>\n",
       "    <tr>\n",
       "      <th>5</th>\n",
       "      <td>486559</td>\n",
       "      <td>2020-05-25</td>\n",
       "      <td>1</td>\n",
       "      <td>Control</td>\n",
       "      <td>1</td>\n",
       "      <td>0</td>\n",
       "      <td>surge</td>\n",
       "      <td>Android</td>\n",
       "      <td>NaN</td>\n",
       "      <td>NaN</td>\n",
       "      <td>Control</td>\n",
       "      <td>0.0</td>\n",
       "    </tr>\n",
       "    <tr>\n",
       "      <th>8</th>\n",
       "      <td>486559</td>\n",
       "      <td>2020-05-28</td>\n",
       "      <td>1</td>\n",
       "      <td>Control</td>\n",
       "      <td>1</td>\n",
       "      <td>0</td>\n",
       "      <td>surge</td>\n",
       "      <td>iOS</td>\n",
       "      <td>NaN</td>\n",
       "      <td>NaN</td>\n",
       "      <td>Control</td>\n",
       "      <td>0.0</td>\n",
       "    </tr>\n",
       "    <tr>\n",
       "      <th>...</th>\n",
       "      <td>...</td>\n",
       "      <td>...</td>\n",
       "      <td>...</td>\n",
       "      <td>...</td>\n",
       "      <td>...</td>\n",
       "      <td>...</td>\n",
       "      <td>...</td>\n",
       "      <td>...</td>\n",
       "      <td>...</td>\n",
       "      <td>...</td>\n",
       "      <td>...</td>\n",
       "      <td>...</td>\n",
       "    </tr>\n",
       "    <tr>\n",
       "      <th>101484</th>\n",
       "      <td>380230</td>\n",
       "      <td>2020-05-26</td>\n",
       "      <td>1</td>\n",
       "      <td>Control</td>\n",
       "      <td>1</td>\n",
       "      <td>1</td>\n",
       "      <td>surge</td>\n",
       "      <td>Android</td>\n",
       "      <td>0.0</td>\n",
       "      <td>1.0</td>\n",
       "      <td>Control</td>\n",
       "      <td>1.0</td>\n",
       "    </tr>\n",
       "    <tr>\n",
       "      <th>101486</th>\n",
       "      <td>946650</td>\n",
       "      <td>2020-05-26</td>\n",
       "      <td>1</td>\n",
       "      <td>Test</td>\n",
       "      <td>1</td>\n",
       "      <td>1</td>\n",
       "      <td>surge</td>\n",
       "      <td>Android</td>\n",
       "      <td>0.0</td>\n",
       "      <td>0.0</td>\n",
       "      <td>Test</td>\n",
       "      <td>1.0</td>\n",
       "    </tr>\n",
       "    <tr>\n",
       "      <th>101492</th>\n",
       "      <td>811157</td>\n",
       "      <td>2020-05-26</td>\n",
       "      <td>1</td>\n",
       "      <td>Control</td>\n",
       "      <td>1</td>\n",
       "      <td>0</td>\n",
       "      <td>surge</td>\n",
       "      <td>iOS</td>\n",
       "      <td>NaN</td>\n",
       "      <td>NaN</td>\n",
       "      <td>Control</td>\n",
       "      <td>0.0</td>\n",
       "    </tr>\n",
       "    <tr>\n",
       "      <th>101493</th>\n",
       "      <td>442716</td>\n",
       "      <td>2020-05-26</td>\n",
       "      <td>1</td>\n",
       "      <td>Test</td>\n",
       "      <td>1</td>\n",
       "      <td>1</td>\n",
       "      <td>surge</td>\n",
       "      <td>Android</td>\n",
       "      <td>0.0</td>\n",
       "      <td>1.0</td>\n",
       "      <td>Test</td>\n",
       "      <td>1.0</td>\n",
       "    </tr>\n",
       "    <tr>\n",
       "      <th>101498</th>\n",
       "      <td>216082</td>\n",
       "      <td>2020-05-26</td>\n",
       "      <td>1</td>\n",
       "      <td>Control</td>\n",
       "      <td>1</td>\n",
       "      <td>0</td>\n",
       "      <td>surge</td>\n",
       "      <td>Android</td>\n",
       "      <td>NaN</td>\n",
       "      <td>NaN</td>\n",
       "      <td>Control</td>\n",
       "      <td>0.0</td>\n",
       "    </tr>\n",
       "  </tbody>\n",
       "</table>\n",
       "<p>28752 rows × 12 columns</p>\n",
       "</div>"
      ],
      "text/plain": [
       "        user_id        date  app_opened    group  price_seen  order_made  \\\n",
       "1        867689  2020-05-29           1  Control           1           0   \n",
       "2        867689  2020-05-25           1  Control           1           1   \n",
       "3        752172  2020-05-29           1  Control           1           1   \n",
       "5        486559  2020-05-25           1  Control           1           0   \n",
       "8        486559  2020-05-28           1  Control           1           0   \n",
       "...         ...         ...         ...      ...         ...         ...   \n",
       "101484   380230  2020-05-26           1  Control           1           1   \n",
       "101486   946650  2020-05-26           1     Test           1           1   \n",
       "101492   811157  2020-05-26           1  Control           1           0   \n",
       "101493   442716  2020-05-26           1     Test           1           1   \n",
       "101498   216082  2020-05-26           1  Control           1           0   \n",
       "\n",
       "        surge       os  user_cancelled  city_center_order   groups  \\\n",
       "1       surge      iOS             NaN                NaN  Control   \n",
       "2       surge  Android             0.0                0.0  Control   \n",
       "3       surge  Android             0.0                1.0  Control   \n",
       "5       surge  Android             NaN                NaN  Control   \n",
       "8       surge      iOS             NaN                NaN  Control   \n",
       "...       ...      ...             ...                ...      ...   \n",
       "101484  surge  Android             0.0                1.0  Control   \n",
       "101486  surge  Android             0.0                0.0     Test   \n",
       "101492  surge      iOS             NaN                NaN  Control   \n",
       "101493  surge  Android             0.0                1.0     Test   \n",
       "101498  surge  Android             NaN                NaN  Control   \n",
       "\n",
       "        price-to-order  \n",
       "1                  0.0  \n",
       "2                  1.0  \n",
       "3                  1.0  \n",
       "5                  0.0  \n",
       "8                  0.0  \n",
       "...                ...  \n",
       "101484             1.0  \n",
       "101486             1.0  \n",
       "101492             0.0  \n",
       "101493             1.0  \n",
       "101498             0.0  \n",
       "\n",
       "[28752 rows x 12 columns]"
      ]
     },
     "execution_count": 3,
     "metadata": {},
     "output_type": "execute_result"
    }
   ],
   "source": [
    "ds['price-to-order'] = ds['order_made'] / ds['price_seen']\n",
    "\n",
    "ds = ds.query('surge == \"surge\"')\n",
    "\n",
    "ds"
   ]
  },
  {
   "cell_type": "code",
   "execution_count": 4,
   "id": "9729af49",
   "metadata": {},
   "outputs": [
    {
     "data": {
      "text/plain": [
       "'По датам выборка делится на 7 групп'"
      ]
     },
     "execution_count": 4,
     "metadata": {},
     "output_type": "execute_result"
    }
   ],
   "source": [
    "f'По датам выборка делится на {ds.date.nunique()} групп'"
   ]
  },
  {
   "cell_type": "code",
   "execution_count": null,
   "id": "973029a8",
   "metadata": {},
   "outputs": [],
   "source": [
    "ttest_ind()"
   ]
  },
  {
   "cell_type": "code",
   "execution_count": 20,
   "id": "b2eb4a66",
   "metadata": {},
   "outputs": [
    {
     "name": "stdout",
     "output_type": "stream",
     "text": [
      "2020-05-29\n",
      "2020-05-25\n",
      "2020-05-28\n",
      "2020-05-31\n",
      "2020-05-30\n",
      "2020-05-27\n",
      "2020-05-26\n"
     ]
    },
    {
     "data": {
      "text/plain": [
       "[['2020-05-29', 0.5501248402960568],\n",
       " ['2020-05-25', 0.0019069871098142616],\n",
       " ['2020-05-28', 0.18878068676535126],\n",
       " ['2020-05-31', 0.5862162039800894],\n",
       " ['2020-05-30', 0.056713683945567285],\n",
       " ['2020-05-27', 0.11421678937745455],\n",
       " ['2020-05-26', 0.4698971874466067]]"
      ]
     },
     "execution_count": 20,
     "metadata": {},
     "output_type": "execute_result"
    }
   ],
   "source": [
    "p_vals = []\n",
    "\n",
    "for date_i in ds.date.unique():\n",
    "    print(date_i)\n",
    "    ds_d = ds.query(f'date == \"{date_i}\"')\n",
    "    ds_d_1 = ds_d.query('group == \"Control\"')['price-to-order']\n",
    "    ds_d_2 = ds_d.query('group == \"Test\"')['price-to-order']                 \n",
    "    p_vals.append([date_i, ttest_ind( ds_d_1, ds_d_2 ).pvalue])\n",
    "\n",
    "p_vals"
   ]
  },
  {
   "cell_type": "code",
   "execution_count": 32,
   "id": "5e2a70e1",
   "metadata": {},
   "outputs": [],
   "source": [
    "result = pd.DataFrame(p_vals).rename(\n",
    "    columns={0:'date', 1:'p_value'}\n",
    ").sort_values(\n",
    "    by='date'\n",
    ").set_index(\n",
    "    'date'\n",
    ")\n",
    "\n",
    "result['5_line'] = 0.05\n",
    "result['25_line'] = 0.25\n",
    "result['33_line'] = 0.33"
   ]
  },
  {
   "cell_type": "code",
   "execution_count": 34,
   "id": "59a402f3",
   "metadata": {},
   "outputs": [
    {
     "data": {
      "image/png": "[encoded data removed]",
      "text/plain": [
       "<Figure size 720x216 with 1 Axes>"
      ]
     },
     "metadata": {
      "needs_background": "light"
     },
     "output_type": "display_data"
    }
   ],
   "source": [
    "result.plot(figsize=(10,3));"
   ]
  },
  {
   "cell_type": "markdown",
   "id": "390a64c3",
   "metadata": {},
   "source": [
    "# p-значение слишком высокое для 5%й вероятности ошибки - т.е. гипотезу о статистической значимости отвергаем."
   ]
  }
 ],
 "metadata": {
  "kernelspec": {
   "display_name": "Python 3 (ipykernel)",
   "language": "python",
   "name": "python3"
  },
  "language_info": {
   "codemirror_mode": {
    "name": "ipython",
    "version": 3
   },
   "file_extension": ".py",
   "mimetype": "text/x-python",
   "name": "python",
   "nbconvert_exporter": "python",
   "pygments_lexer": "ipython3",
   "version": "3.7.6"
  }
 },
 "nbformat": 4,
 "nbformat_minor": 5
}
